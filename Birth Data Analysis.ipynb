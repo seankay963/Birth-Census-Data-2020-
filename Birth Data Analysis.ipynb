{
 "cells": [
  {
   "cell_type": "markdown",
   "id": "d77f2552",
   "metadata": {},
   "source": [
    "#                                         Newborn Data of 2020 \n"
   ]
  },
  {
   "cell_type": "code",
   "execution_count": null,
   "id": "d90cdb59",
   "metadata": {},
   "outputs": [],
   "source": [
    "import pandas as pd"
   ]
  },
  {
   "cell_type": "code",
   "execution_count": 4,
   "id": "24f5a05a",
   "metadata": {},
   "outputs": [],
   "source": [
    "birth = pd.read_csv(r\"C:\\Users\\kease\\anaconda3\\envs\\birth\\out.csv\", low_memory=False)"
   ]
  },
  {
   "cell_type": "code",
   "execution_count": 5,
   "id": "d8fc3999",
   "metadata": {},
   "outputs": [
    {
     "data": {
      "text/html": [
       "<div>\n",
       "<style scoped>\n",
       "    .dataframe tbody tr th:only-of-type {\n",
       "        vertical-align: middle;\n",
       "    }\n",
       "\n",
       "    .dataframe tbody tr th {\n",
       "        vertical-align: top;\n",
       "    }\n",
       "\n",
       "    .dataframe thead th {\n",
       "        text-align: right;\n",
       "    }\n",
       "</style>\n",
       "<table border=\"1\" class=\"dataframe\">\n",
       "  <thead>\n",
       "    <tr style=\"text-align: right;\">\n",
       "      <th></th>\n",
       "      <th>id</th>\n",
       "      <th>birth_year</th>\n",
       "      <th>birth_month</th>\n",
       "      <th>birth_time</th>\n",
       "      <th>birth_time3</th>\n",
       "      <th>birth_time3.1</th>\n",
       "      <th>birth_place</th>\n",
       "      <th>mother_age</th>\n",
       "      <th>marital_status</th>\n",
       "      <th>mother_education</th>\n",
       "      <th>...</th>\n",
       "      <th>labor_augmentation</th>\n",
       "      <th>steroids</th>\n",
       "      <th>antibiotics</th>\n",
       "      <th>chorioamnionitis</th>\n",
       "      <th>anesthesia</th>\n",
       "      <th>apgar5</th>\n",
       "      <th>apgar10</th>\n",
       "      <th>plurality</th>\n",
       "      <th>gender</th>\n",
       "      <th>infant_weight</th>\n",
       "    </tr>\n",
       "  </thead>\n",
       "  <tbody>\n",
       "    <tr>\n",
       "      <th>0</th>\n",
       "      <td>1</td>\n",
       "      <td>2020</td>\n",
       "      <td>1</td>\n",
       "      <td>1123.0</td>\n",
       "      <td>11:23 AM</td>\n",
       "      <td>11:23</td>\n",
       "      <td>1.0</td>\n",
       "      <td>25</td>\n",
       "      <td>1</td>\n",
       "      <td>3.0</td>\n",
       "      <td>...</td>\n",
       "      <td>N</td>\n",
       "      <td>N</td>\n",
       "      <td>Y</td>\n",
       "      <td>Y</td>\n",
       "      <td>Y</td>\n",
       "      <td>8.0</td>\n",
       "      <td>88.0</td>\n",
       "      <td>1</td>\n",
       "      <td>M</td>\n",
       "      <td>3570</td>\n",
       "    </tr>\n",
       "    <tr>\n",
       "      <th>1</th>\n",
       "      <td>2</td>\n",
       "      <td>2020</td>\n",
       "      <td>1</td>\n",
       "      <td>1345.0</td>\n",
       "      <td>1:45 PM</td>\n",
       "      <td>13:45</td>\n",
       "      <td>1.0</td>\n",
       "      <td>19</td>\n",
       "      <td>2</td>\n",
       "      <td>2.0</td>\n",
       "      <td>...</td>\n",
       "      <td>Y</td>\n",
       "      <td>N</td>\n",
       "      <td>N</td>\n",
       "      <td>N</td>\n",
       "      <td>Y</td>\n",
       "      <td>9.0</td>\n",
       "      <td>88.0</td>\n",
       "      <td>1</td>\n",
       "      <td>F</td>\n",
       "      <td>3440</td>\n",
       "    </tr>\n",
       "    <tr>\n",
       "      <th>2</th>\n",
       "      <td>3</td>\n",
       "      <td>2020</td>\n",
       "      <td>1</td>\n",
       "      <td>726.0</td>\n",
       "      <td>7:26 AM</td>\n",
       "      <td>07:26</td>\n",
       "      <td>3.0</td>\n",
       "      <td>34</td>\n",
       "      <td>1</td>\n",
       "      <td>6.0</td>\n",
       "      <td>...</td>\n",
       "      <td>N</td>\n",
       "      <td>N</td>\n",
       "      <td>N</td>\n",
       "      <td>N</td>\n",
       "      <td>N</td>\n",
       "      <td>8.0</td>\n",
       "      <td>88.0</td>\n",
       "      <td>1</td>\n",
       "      <td>M</td>\n",
       "      <td>4423</td>\n",
       "    </tr>\n",
       "    <tr>\n",
       "      <th>3</th>\n",
       "      <td>4</td>\n",
       "      <td>2020</td>\n",
       "      <td>1</td>\n",
       "      <td>329.0</td>\n",
       "      <td>3:29 AM</td>\n",
       "      <td>03:29</td>\n",
       "      <td>1.0</td>\n",
       "      <td>25</td>\n",
       "      <td>1</td>\n",
       "      <td>4.0</td>\n",
       "      <td>...</td>\n",
       "      <td>N</td>\n",
       "      <td>N</td>\n",
       "      <td>N</td>\n",
       "      <td>N</td>\n",
       "      <td>N</td>\n",
       "      <td>9.0</td>\n",
       "      <td>88.0</td>\n",
       "      <td>1</td>\n",
       "      <td>M</td>\n",
       "      <td>2744</td>\n",
       "    </tr>\n",
       "    <tr>\n",
       "      <th>4</th>\n",
       "      <td>5</td>\n",
       "      <td>2020</td>\n",
       "      <td>1</td>\n",
       "      <td>2333.0</td>\n",
       "      <td>11:33 PM</td>\n",
       "      <td>23:33</td>\n",
       "      <td>1.0</td>\n",
       "      <td>25</td>\n",
       "      <td>1</td>\n",
       "      <td>4.0</td>\n",
       "      <td>...</td>\n",
       "      <td>N</td>\n",
       "      <td>N</td>\n",
       "      <td>N</td>\n",
       "      <td>N</td>\n",
       "      <td>Y</td>\n",
       "      <td>9.0</td>\n",
       "      <td>88.0</td>\n",
       "      <td>1</td>\n",
       "      <td>F</td>\n",
       "      <td>3425</td>\n",
       "    </tr>\n",
       "    <tr>\n",
       "      <th>...</th>\n",
       "      <td>...</td>\n",
       "      <td>...</td>\n",
       "      <td>...</td>\n",
       "      <td>...</td>\n",
       "      <td>...</td>\n",
       "      <td>...</td>\n",
       "      <td>...</td>\n",
       "      <td>...</td>\n",
       "      <td>...</td>\n",
       "      <td>...</td>\n",
       "      <td>...</td>\n",
       "      <td>...</td>\n",
       "      <td>...</td>\n",
       "      <td>...</td>\n",
       "      <td>...</td>\n",
       "      <td>...</td>\n",
       "      <td>...</td>\n",
       "      <td>...</td>\n",
       "      <td>...</td>\n",
       "      <td>...</td>\n",
       "      <td>...</td>\n",
       "    </tr>\n",
       "    <tr>\n",
       "      <th>180987</th>\n",
       "      <td>180988</td>\n",
       "      <td>2020</td>\n",
       "      <td>9</td>\n",
       "      <td>1857.0</td>\n",
       "      <td>6:57 PM</td>\n",
       "      <td>18:57</td>\n",
       "      <td>1.0</td>\n",
       "      <td>25</td>\n",
       "      <td>2</td>\n",
       "      <td>2.0</td>\n",
       "      <td>...</td>\n",
       "      <td>N</td>\n",
       "      <td>N</td>\n",
       "      <td>Y</td>\n",
       "      <td>N</td>\n",
       "      <td>Y</td>\n",
       "      <td>10.0</td>\n",
       "      <td>88.0</td>\n",
       "      <td>2</td>\n",
       "      <td>M</td>\n",
       "      <td>1871</td>\n",
       "    </tr>\n",
       "    <tr>\n",
       "      <th>180988</th>\n",
       "      <td>180989</td>\n",
       "      <td>2020</td>\n",
       "      <td>12</td>\n",
       "      <td>1110.0</td>\n",
       "      <td>11:10 AM</td>\n",
       "      <td>11:10</td>\n",
       "      <td>1.0</td>\n",
       "      <td>19</td>\n",
       "      <td>1</td>\n",
       "      <td>NaN</td>\n",
       "      <td>...</td>\n",
       "      <td>N</td>\n",
       "      <td>N</td>\n",
       "      <td>N</td>\n",
       "      <td>N</td>\n",
       "      <td>Y</td>\n",
       "      <td>8.0</td>\n",
       "      <td>88.0</td>\n",
       "      <td>1</td>\n",
       "      <td>M</td>\n",
       "      <td>3815</td>\n",
       "    </tr>\n",
       "    <tr>\n",
       "      <th>180989</th>\n",
       "      <td>180990</td>\n",
       "      <td>2020</td>\n",
       "      <td>12</td>\n",
       "      <td>1424.0</td>\n",
       "      <td>2:24 PM</td>\n",
       "      <td>14:24</td>\n",
       "      <td>1.0</td>\n",
       "      <td>30</td>\n",
       "      <td>2</td>\n",
       "      <td>NaN</td>\n",
       "      <td>...</td>\n",
       "      <td>N</td>\n",
       "      <td>N</td>\n",
       "      <td>N</td>\n",
       "      <td>N</td>\n",
       "      <td>Y</td>\n",
       "      <td>9.0</td>\n",
       "      <td>88.0</td>\n",
       "      <td>1</td>\n",
       "      <td>M</td>\n",
       "      <td>4170</td>\n",
       "    </tr>\n",
       "    <tr>\n",
       "      <th>180990</th>\n",
       "      <td>180991</td>\n",
       "      <td>2020</td>\n",
       "      <td>10</td>\n",
       "      <td>2245.0</td>\n",
       "      <td>10:45 PM</td>\n",
       "      <td>22:45</td>\n",
       "      <td>3.0</td>\n",
       "      <td>38</td>\n",
       "      <td>1</td>\n",
       "      <td>8.0</td>\n",
       "      <td>...</td>\n",
       "      <td>N</td>\n",
       "      <td>N</td>\n",
       "      <td>N</td>\n",
       "      <td>N</td>\n",
       "      <td>Y</td>\n",
       "      <td>9.0</td>\n",
       "      <td>88.0</td>\n",
       "      <td>1</td>\n",
       "      <td>F</td>\n",
       "      <td>4196</td>\n",
       "    </tr>\n",
       "    <tr>\n",
       "      <th>180991</th>\n",
       "      <td>180992</td>\n",
       "      <td>2020</td>\n",
       "      <td>10</td>\n",
       "      <td>38.0</td>\n",
       "      <td>12:38 AM</td>\n",
       "      <td>00:38</td>\n",
       "      <td>3.0</td>\n",
       "      <td>31</td>\n",
       "      <td>1</td>\n",
       "      <td>NaN</td>\n",
       "      <td>...</td>\n",
       "      <td>NaN</td>\n",
       "      <td>NaN</td>\n",
       "      <td>NaN</td>\n",
       "      <td>NaN</td>\n",
       "      <td>NaN</td>\n",
       "      <td>NaN</td>\n",
       "      <td>NaN</td>\n",
       "      <td>1</td>\n",
       "      <td>M</td>\n",
       "      <td>9999</td>\n",
       "    </tr>\n",
       "  </tbody>\n",
       "</table>\n",
       "<p>180992 rows × 41 columns</p>\n",
       "</div>"
      ],
      "text/plain": [
       "            id  birth_year  birth_month  birth_time birth_time3 birth_time3.1  \\\n",
       "0            1        2020            1      1123.0    11:23 AM         11:23   \n",
       "1            2        2020            1      1345.0     1:45 PM         13:45   \n",
       "2            3        2020            1       726.0     7:26 AM         07:26   \n",
       "3            4        2020            1       329.0     3:29 AM         03:29   \n",
       "4            5        2020            1      2333.0    11:33 PM         23:33   \n",
       "...        ...         ...          ...         ...         ...           ...   \n",
       "180987  180988        2020            9      1857.0     6:57 PM         18:57   \n",
       "180988  180989        2020           12      1110.0    11:10 AM         11:10   \n",
       "180989  180990        2020           12      1424.0     2:24 PM         14:24   \n",
       "180990  180991        2020           10      2245.0    10:45 PM         22:45   \n",
       "180991  180992        2020           10        38.0    12:38 AM         00:38   \n",
       "\n",
       "        birth_place  mother_age marital_status  mother_education  ...  \\\n",
       "0               1.0          25              1               3.0  ...   \n",
       "1               1.0          19              2               2.0  ...   \n",
       "2               3.0          34              1               6.0  ...   \n",
       "3               1.0          25              1               4.0  ...   \n",
       "4               1.0          25              1               4.0  ...   \n",
       "...             ...         ...            ...               ...  ...   \n",
       "180987          1.0          25              2               2.0  ...   \n",
       "180988          1.0          19              1               NaN  ...   \n",
       "180989          1.0          30              2               NaN  ...   \n",
       "180990          3.0          38              1               8.0  ...   \n",
       "180991          3.0          31              1               NaN  ...   \n",
       "\n",
       "        labor_augmentation  steroids  antibiotics  chorioamnionitis  \\\n",
       "0                        N         N            Y                 Y   \n",
       "1                        Y         N            N                 N   \n",
       "2                        N         N            N                 N   \n",
       "3                        N         N            N                 N   \n",
       "4                        N         N            N                 N   \n",
       "...                    ...       ...          ...               ...   \n",
       "180987                   N         N            Y                 N   \n",
       "180988                   N         N            N                 N   \n",
       "180989                   N         N            N                 N   \n",
       "180990                   N         N            N                 N   \n",
       "180991                 NaN       NaN          NaN               NaN   \n",
       "\n",
       "        anesthesia  apgar5  apgar10  plurality gender infant_weight  \n",
       "0                Y     8.0     88.0          1      M          3570  \n",
       "1                Y     9.0     88.0          1      F          3440  \n",
       "2                N     8.0     88.0          1      M          4423  \n",
       "3                N     9.0     88.0          1      M          2744  \n",
       "4                Y     9.0     88.0          1      F          3425  \n",
       "...            ...     ...      ...        ...    ...           ...  \n",
       "180987           Y    10.0     88.0          2      M          1871  \n",
       "180988           Y     8.0     88.0          1      M          3815  \n",
       "180989           Y     9.0     88.0          1      M          4170  \n",
       "180990           Y     9.0     88.0          1      F          4196  \n",
       "180991         NaN     NaN      NaN          1      M          9999  \n",
       "\n",
       "[180992 rows x 41 columns]"
      ]
     },
     "execution_count": 5,
     "metadata": {},
     "output_type": "execute_result"
    }
   ],
   "source": [
    "birth"
   ]
  },
  {
   "cell_type": "code",
   "execution_count": 4,
   "id": "add9e07c",
   "metadata": {},
   "outputs": [
    {
     "data": {
      "text/plain": [
       "id                       180992\n",
       "birth_year               180992\n",
       "birth_month              180992\n",
       "birth_time               180969\n",
       "birth_time3              180992\n",
       "birth_time3.1            180992\n",
       "birth_place              180977\n",
       "mother_age               180992\n",
       "marital_status           180992\n",
       "mother_education         178448\n",
       "father_age               158408\n",
       "father_education         154379\n",
       "interval_llb             175142\n",
       "cigarettes               180231\n",
       "mother_height            180095\n",
       "mother_bmi               177419\n",
       "pre_preg_weight          177917\n",
       "delivery_weight          178920\n",
       "pre_preg_diabetes        180764\n",
       "gest_diabetes            180764\n",
       "pre_preg_hypertension    180764\n",
       "gest_hypertension        180764\n",
       "prev_preterm_birth       180764\n",
       "infertility_treatment    180764\n",
       "prev_cesarian            180992\n",
       "gonorrhea                180416\n",
       "syphilis                 180416\n",
       "chlamydia                180416\n",
       "hepatitis_b              180416\n",
       "hepatitis_c              180416\n",
       "labor_induction          180883\n",
       "labor_augmentation       180883\n",
       "steroids                 180883\n",
       "antibiotics              180883\n",
       "chorioamnionitis         180883\n",
       "anesthesia               180883\n",
       "apgar5                   180219\n",
       "apgar10                  180079\n",
       "plurality                180992\n",
       "gender                   180992\n",
       "infant_weight            180992\n",
       "dtype: int64"
      ]
     },
     "execution_count": 4,
     "metadata": {},
     "output_type": "execute_result"
    }
   ],
   "source": [
    "birth.count()"
   ]
  },
  {
   "cell_type": "code",
   "execution_count": 5,
   "id": "2ebd26c8",
   "metadata": {},
   "outputs": [],
   "source": [
    "#birth.isnull().sum()"
   ]
  },
  {
   "cell_type": "code",
   "execution_count": null,
   "id": "15193cb1",
   "metadata": {},
   "outputs": [],
   "source": [
    "#birth.tail()"
   ]
  },
  {
   "cell_type": "code",
   "execution_count": 319,
   "id": "587b6ebb",
   "metadata": {},
   "outputs": [
    {
     "data": {
      "text/plain": [
       "Index(['id', 'birth_year', 'birth_month', 'birth_time', 'birth_time3',\n",
       "       'birth_time3.1', 'birth_place', 'mother_age', 'marital_status',\n",
       "       'mother_education', 'father_age', 'father_education', 'interval_llb',\n",
       "       'cigarettes', 'mother_height', 'mother_bmi', 'pre_preg_weight',\n",
       "       'delivery_weight', 'pre_preg_diabetes', 'gest_diabetes',\n",
       "       'pre_preg_hypertension', 'gest_hypertension', 'prev_preterm_birth',\n",
       "       'infertility_treatment', 'prev_cesarian', 'gonorrhea', 'syphilis',\n",
       "       'chlamydia', 'hepatitis_b', 'hepatitis_c', 'labor_induction',\n",
       "       'labor_augmentation', 'steroids', 'antibiotics', 'chorioamnionitis',\n",
       "       'anesthesia', 'apgar5', 'apgar10', 'plurality', 'gender',\n",
       "       'infant_weight'],\n",
       "      dtype='object')"
      ]
     },
     "execution_count": 319,
     "metadata": {},
     "output_type": "execute_result"
    }
   ],
   "source": [
    "birth.columns"
   ]
  },
  {
   "cell_type": "code",
   "execution_count": null,
   "id": "9dace8a8",
   "metadata": {},
   "outputs": [],
   "source": [
    "birth.dtypes"
   ]
  },
  {
   "cell_type": "code",
   "execution_count": 6,
   "id": "74e0a248",
   "metadata": {},
   "outputs": [],
   "source": [
    "import seaborn as sns\n",
    "import matplotlib.pyplot as plt"
   ]
  },
  {
   "cell_type": "code",
   "execution_count": 7,
   "id": "100888ed",
   "metadata": {},
   "outputs": [
    {
     "data": {
      "image/png": "[encoded data removed]",
      "text/plain": [
       "<Figure size 432x288 with 2 Axes>"
      ]
     },
     "metadata": {
      "needs_background": "light"
     },
     "output_type": "display_data"
    }
   ],
   "source": [
    "sns.heatmap(birth.isnull())\n",
    "plt.show()"
   ]
  },
  {
   "cell_type": "code",
   "execution_count": 270,
   "id": "ef6328e7",
   "metadata": {},
   "outputs": [
    {
     "data": {
      "text/html": [
       "<div>\n",
       "<style scoped>\n",
       "    .dataframe tbody tr th:only-of-type {\n",
       "        vertical-align: middle;\n",
       "    }\n",
       "\n",
       "    .dataframe tbody tr th {\n",
       "        vertical-align: top;\n",
       "    }\n",
       "\n",
       "    .dataframe thead th {\n",
       "        text-align: right;\n",
       "    }\n",
       "</style>\n",
       "<table border=\"1\" class=\"dataframe\">\n",
       "  <thead>\n",
       "    <tr style=\"text-align: right;\">\n",
       "      <th></th>\n",
       "      <th>id</th>\n",
       "      <th>birth_year</th>\n",
       "      <th>birth_month</th>\n",
       "      <th>birth_time</th>\n",
       "      <th>birth_place</th>\n",
       "      <th>mother_age</th>\n",
       "      <th>mother_education</th>\n",
       "      <th>father_age</th>\n",
       "      <th>father_education</th>\n",
       "      <th>interval_llb</th>\n",
       "      <th>cigarettes</th>\n",
       "      <th>mother_height</th>\n",
       "      <th>mother_bmi</th>\n",
       "      <th>pre_preg_weight</th>\n",
       "      <th>delivery_weight</th>\n",
       "      <th>prev_cesarian</th>\n",
       "      <th>apgar5</th>\n",
       "      <th>apgar10</th>\n",
       "      <th>plurality</th>\n",
       "      <th>infant_weight</th>\n",
       "    </tr>\n",
       "  </thead>\n",
       "  <tbody>\n",
       "    <tr>\n",
       "      <th>count</th>\n",
       "      <td>180992.000000</td>\n",
       "      <td>180992.0</td>\n",
       "      <td>180992.000000</td>\n",
       "      <td>180969.000000</td>\n",
       "      <td>180977.000000</td>\n",
       "      <td>180992.000000</td>\n",
       "      <td>178448.000000</td>\n",
       "      <td>158408.000000</td>\n",
       "      <td>154379.000000</td>\n",
       "      <td>175142.000000</td>\n",
       "      <td>180231.000000</td>\n",
       "      <td>180095.000000</td>\n",
       "      <td>177419.000000</td>\n",
       "      <td>177917.000000</td>\n",
       "      <td>178920.000000</td>\n",
       "      <td>180992.000000</td>\n",
       "      <td>180219.000000</td>\n",
       "      <td>180079.00000</td>\n",
       "      <td>180992.000000</td>\n",
       "      <td>180992.000000</td>\n",
       "    </tr>\n",
       "    <tr>\n",
       "      <th>mean</th>\n",
       "      <td>90496.500000</td>\n",
       "      <td>2020.0</td>\n",
       "      <td>6.504448</td>\n",
       "      <td>1227.947765</td>\n",
       "      <td>1.043376</td>\n",
       "      <td>29.239049</td>\n",
       "      <td>4.385249</td>\n",
       "      <td>31.949819</td>\n",
       "      <td>4.277071</td>\n",
       "      <td>379.989603</td>\n",
       "      <td>0.918555</td>\n",
       "      <td>64.088109</td>\n",
       "      <td>27.538505</td>\n",
       "      <td>161.103886</td>\n",
       "      <td>190.336743</td>\n",
       "      <td>0.014222</td>\n",
       "      <td>8.767788</td>\n",
       "      <td>87.02957</td>\n",
       "      <td>1.032935</td>\n",
       "      <td>3258.366226</td>\n",
       "    </tr>\n",
       "    <tr>\n",
       "      <th>std</th>\n",
       "      <td>52248.034298</td>\n",
       "      <td>0.0</td>\n",
       "      <td>3.417381</td>\n",
       "      <td>630.769595</td>\n",
       "      <td>0.352485</td>\n",
       "      <td>5.813454</td>\n",
       "      <td>1.742893</td>\n",
       "      <td>6.787882</td>\n",
       "      <td>1.750033</td>\n",
       "      <td>410.647774</td>\n",
       "      <td>4.457554</td>\n",
       "      <td>2.848155</td>\n",
       "      <td>6.852419</td>\n",
       "      <td>42.483999</td>\n",
       "      <td>42.069227</td>\n",
       "      <td>0.357482</td>\n",
       "      <td>0.823439</td>\n",
       "      <td>8.87273</td>\n",
       "      <td>0.183082</td>\n",
       "      <td>617.281650</td>\n",
       "    </tr>\n",
       "    <tr>\n",
       "      <th>min</th>\n",
       "      <td>1.000000</td>\n",
       "      <td>2020.0</td>\n",
       "      <td>1.000000</td>\n",
       "      <td>0.000000</td>\n",
       "      <td>1.000000</td>\n",
       "      <td>12.000000</td>\n",
       "      <td>1.000000</td>\n",
       "      <td>14.000000</td>\n",
       "      <td>1.000000</td>\n",
       "      <td>3.000000</td>\n",
       "      <td>0.000000</td>\n",
       "      <td>47.000000</td>\n",
       "      <td>13.100000</td>\n",
       "      <td>75.000000</td>\n",
       "      <td>100.000000</td>\n",
       "      <td>0.000000</td>\n",
       "      <td>0.000000</td>\n",
       "      <td>0.00000</td>\n",
       "      <td>1.000000</td>\n",
       "      <td>227.000000</td>\n",
       "    </tr>\n",
       "    <tr>\n",
       "      <th>25%</th>\n",
       "      <td>45248.750000</td>\n",
       "      <td>2020.0</td>\n",
       "      <td>4.000000</td>\n",
       "      <td>800.000000</td>\n",
       "      <td>1.000000</td>\n",
       "      <td>25.000000</td>\n",
       "      <td>3.000000</td>\n",
       "      <td>27.000000</td>\n",
       "      <td>3.000000</td>\n",
       "      <td>32.000000</td>\n",
       "      <td>0.000000</td>\n",
       "      <td>62.000000</td>\n",
       "      <td>22.500000</td>\n",
       "      <td>130.000000</td>\n",
       "      <td>160.000000</td>\n",
       "      <td>0.000000</td>\n",
       "      <td>9.000000</td>\n",
       "      <td>88.00000</td>\n",
       "      <td>1.000000</td>\n",
       "      <td>2951.000000</td>\n",
       "    </tr>\n",
       "    <tr>\n",
       "      <th>50%</th>\n",
       "      <td>90496.500000</td>\n",
       "      <td>2020.0</td>\n",
       "      <td>7.000000</td>\n",
       "      <td>1236.000000</td>\n",
       "      <td>1.000000</td>\n",
       "      <td>29.000000</td>\n",
       "      <td>4.000000</td>\n",
       "      <td>32.000000</td>\n",
       "      <td>4.000000</td>\n",
       "      <td>78.000000</td>\n",
       "      <td>0.000000</td>\n",
       "      <td>64.000000</td>\n",
       "      <td>26.000000</td>\n",
       "      <td>150.000000</td>\n",
       "      <td>183.000000</td>\n",
       "      <td>0.000000</td>\n",
       "      <td>9.000000</td>\n",
       "      <td>88.00000</td>\n",
       "      <td>1.000000</td>\n",
       "      <td>3290.000000</td>\n",
       "    </tr>\n",
       "    <tr>\n",
       "      <th>75%</th>\n",
       "      <td>135744.250000</td>\n",
       "      <td>2020.0</td>\n",
       "      <td>9.000000</td>\n",
       "      <td>1730.000000</td>\n",
       "      <td>1.000000</td>\n",
       "      <td>33.000000</td>\n",
       "      <td>6.000000</td>\n",
       "      <td>36.000000</td>\n",
       "      <td>6.000000</td>\n",
       "      <td>888.000000</td>\n",
       "      <td>0.000000</td>\n",
       "      <td>66.000000</td>\n",
       "      <td>31.200000</td>\n",
       "      <td>182.000000</td>\n",
       "      <td>213.000000</td>\n",
       "      <td>0.000000</td>\n",
       "      <td>9.000000</td>\n",
       "      <td>88.00000</td>\n",
       "      <td>1.000000</td>\n",
       "      <td>3620.000000</td>\n",
       "    </tr>\n",
       "    <tr>\n",
       "      <th>max</th>\n",
       "      <td>180992.000000</td>\n",
       "      <td>2020.0</td>\n",
       "      <td>12.000000</td>\n",
       "      <td>2359.000000</td>\n",
       "      <td>7.000000</td>\n",
       "      <td>50.000000</td>\n",
       "      <td>8.000000</td>\n",
       "      <td>91.000000</td>\n",
       "      <td>8.000000</td>\n",
       "      <td>888.000000</td>\n",
       "      <td>98.000000</td>\n",
       "      <td>78.000000</td>\n",
       "      <td>69.500000</td>\n",
       "      <td>375.000000</td>\n",
       "      <td>400.000000</td>\n",
       "      <td>9.000000</td>\n",
       "      <td>10.000000</td>\n",
       "      <td>88.00000</td>\n",
       "      <td>4.000000</td>\n",
       "      <td>9999.000000</td>\n",
       "    </tr>\n",
       "  </tbody>\n",
       "</table>\n",
       "</div>"
      ],
      "text/plain": [
       "                  id  birth_year    birth_month     birth_time    birth_place  \\\n",
       "count  180992.000000    180992.0  180992.000000  180969.000000  180977.000000   \n",
       "mean    90496.500000      2020.0       6.504448    1227.947765       1.043376   \n",
       "std     52248.034298         0.0       3.417381     630.769595       0.352485   \n",
       "min         1.000000      2020.0       1.000000       0.000000       1.000000   \n",
       "25%     45248.750000      2020.0       4.000000     800.000000       1.000000   \n",
       "50%     90496.500000      2020.0       7.000000    1236.000000       1.000000   \n",
       "75%    135744.250000      2020.0       9.000000    1730.000000       1.000000   \n",
       "max    180992.000000      2020.0      12.000000    2359.000000       7.000000   \n",
       "\n",
       "          mother_age  mother_education     father_age  father_education  \\\n",
       "count  180992.000000     178448.000000  158408.000000     154379.000000   \n",
       "mean       29.239049          4.385249      31.949819          4.277071   \n",
       "std         5.813454          1.742893       6.787882          1.750033   \n",
       "min        12.000000          1.000000      14.000000          1.000000   \n",
       "25%        25.000000          3.000000      27.000000          3.000000   \n",
       "50%        29.000000          4.000000      32.000000          4.000000   \n",
       "75%        33.000000          6.000000      36.000000          6.000000   \n",
       "max        50.000000          8.000000      91.000000          8.000000   \n",
       "\n",
       "        interval_llb     cigarettes  mother_height     mother_bmi  \\\n",
       "count  175142.000000  180231.000000  180095.000000  177419.000000   \n",
       "mean      379.989603       0.918555      64.088109      27.538505   \n",
       "std       410.647774       4.457554       2.848155       6.852419   \n",
       "min         3.000000       0.000000      47.000000      13.100000   \n",
       "25%        32.000000       0.000000      62.000000      22.500000   \n",
       "50%        78.000000       0.000000      64.000000      26.000000   \n",
       "75%       888.000000       0.000000      66.000000      31.200000   \n",
       "max       888.000000      98.000000      78.000000      69.500000   \n",
       "\n",
       "       pre_preg_weight  delivery_weight  prev_cesarian         apgar5  \\\n",
       "count    177917.000000    178920.000000  180992.000000  180219.000000   \n",
       "mean        161.103886       190.336743       0.014222       8.767788   \n",
       "std          42.483999        42.069227       0.357482       0.823439   \n",
       "min          75.000000       100.000000       0.000000       0.000000   \n",
       "25%         130.000000       160.000000       0.000000       9.000000   \n",
       "50%         150.000000       183.000000       0.000000       9.000000   \n",
       "75%         182.000000       213.000000       0.000000       9.000000   \n",
       "max         375.000000       400.000000       9.000000      10.000000   \n",
       "\n",
       "            apgar10      plurality  infant_weight  \n",
       "count  180079.00000  180992.000000  180992.000000  \n",
       "mean       87.02957       1.032935    3258.366226  \n",
       "std         8.87273       0.183082     617.281650  \n",
       "min         0.00000       1.000000     227.000000  \n",
       "25%        88.00000       1.000000    2951.000000  \n",
       "50%        88.00000       1.000000    3290.000000  \n",
       "75%        88.00000       1.000000    3620.000000  \n",
       "max        88.00000       4.000000    9999.000000  "
      ]
     },
     "execution_count": 270,
     "metadata": {},
     "output_type": "execute_result"
    }
   ],
   "source": [
    "birth.describe()"
   ]
  },
  {
   "cell_type": "code",
   "execution_count": 274,
   "id": "6fd66447",
   "metadata": {},
   "outputs": [
    {
     "data": {
      "text/html": [
       "<div>\n",
       "<style scoped>\n",
       "    .dataframe tbody tr th:only-of-type {\n",
       "        vertical-align: middle;\n",
       "    }\n",
       "\n",
       "    .dataframe tbody tr th {\n",
       "        vertical-align: top;\n",
       "    }\n",
       "\n",
       "    .dataframe thead th {\n",
       "        text-align: right;\n",
       "    }\n",
       "</style>\n",
       "<table border=\"1\" class=\"dataframe\">\n",
       "  <thead>\n",
       "    <tr style=\"text-align: right;\">\n",
       "      <th></th>\n",
       "      <th>id</th>\n",
       "      <th>birth_year</th>\n",
       "      <th>birth_month</th>\n",
       "      <th>birth_time</th>\n",
       "      <th>birth_place</th>\n",
       "      <th>mother_age</th>\n",
       "      <th>mother_education</th>\n",
       "      <th>father_age</th>\n",
       "      <th>father_education</th>\n",
       "      <th>interval_llb</th>\n",
       "      <th>cigarettes</th>\n",
       "      <th>mother_height</th>\n",
       "      <th>mother_bmi</th>\n",
       "      <th>pre_preg_weight</th>\n",
       "      <th>delivery_weight</th>\n",
       "      <th>prev_cesarian</th>\n",
       "      <th>apgar5</th>\n",
       "      <th>apgar10</th>\n",
       "      <th>plurality</th>\n",
       "      <th>infant_weight</th>\n",
       "    </tr>\n",
       "  </thead>\n",
       "  <tbody>\n",
       "    <tr>\n",
       "      <th>id</th>\n",
       "      <td>1.000000</td>\n",
       "      <td>NaN</td>\n",
       "      <td>0.041772</td>\n",
       "      <td>0.005818</td>\n",
       "      <td>0.007643</td>\n",
       "      <td>-0.018457</td>\n",
       "      <td>0.003821</td>\n",
       "      <td>-0.013078</td>\n",
       "      <td>0.011720</td>\n",
       "      <td>0.003234</td>\n",
       "      <td>0.032670</td>\n",
       "      <td>0.013952</td>\n",
       "      <td>-0.005944</td>\n",
       "      <td>-0.001375</td>\n",
       "      <td>0.007846</td>\n",
       "      <td>0.002514</td>\n",
       "      <td>0.022077</td>\n",
       "      <td>0.002200</td>\n",
       "      <td>-0.000125</td>\n",
       "      <td>0.004342</td>\n",
       "    </tr>\n",
       "    <tr>\n",
       "      <th>birth_year</th>\n",
       "      <td>NaN</td>\n",
       "      <td>NaN</td>\n",
       "      <td>NaN</td>\n",
       "      <td>NaN</td>\n",
       "      <td>NaN</td>\n",
       "      <td>NaN</td>\n",
       "      <td>NaN</td>\n",
       "      <td>NaN</td>\n",
       "      <td>NaN</td>\n",
       "      <td>NaN</td>\n",
       "      <td>NaN</td>\n",
       "      <td>NaN</td>\n",
       "      <td>NaN</td>\n",
       "      <td>NaN</td>\n",
       "      <td>NaN</td>\n",
       "      <td>NaN</td>\n",
       "      <td>NaN</td>\n",
       "      <td>NaN</td>\n",
       "      <td>NaN</td>\n",
       "      <td>NaN</td>\n",
       "    </tr>\n",
       "    <tr>\n",
       "      <th>birth_month</th>\n",
       "      <td>0.041772</td>\n",
       "      <td>NaN</td>\n",
       "      <td>1.000000</td>\n",
       "      <td>0.001848</td>\n",
       "      <td>0.005395</td>\n",
       "      <td>-0.000451</td>\n",
       "      <td>-0.003451</td>\n",
       "      <td>0.001398</td>\n",
       "      <td>-0.009422</td>\n",
       "      <td>0.009382</td>\n",
       "      <td>-0.005764</td>\n",
       "      <td>0.002210</td>\n",
       "      <td>0.011688</td>\n",
       "      <td>0.011631</td>\n",
       "      <td>0.013020</td>\n",
       "      <td>0.002513</td>\n",
       "      <td>-0.001563</td>\n",
       "      <td>0.000292</td>\n",
       "      <td>-0.004027</td>\n",
       "      <td>0.006396</td>\n",
       "    </tr>\n",
       "    <tr>\n",
       "      <th>birth_time</th>\n",
       "      <td>0.005818</td>\n",
       "      <td>NaN</td>\n",
       "      <td>0.001848</td>\n",
       "      <td>1.000000</td>\n",
       "      <td>-0.025675</td>\n",
       "      <td>-0.011593</td>\n",
       "      <td>0.003211</td>\n",
       "      <td>-0.014299</td>\n",
       "      <td>-0.000925</td>\n",
       "      <td>0.042584</td>\n",
       "      <td>-0.001175</td>\n",
       "      <td>0.009219</td>\n",
       "      <td>0.013385</td>\n",
       "      <td>0.016195</td>\n",
       "      <td>0.019564</td>\n",
       "      <td>-0.003195</td>\n",
       "      <td>0.005795</td>\n",
       "      <td>0.005773</td>\n",
       "      <td>0.002871</td>\n",
       "      <td>-0.000088</td>\n",
       "    </tr>\n",
       "    <tr>\n",
       "      <th>birth_place</th>\n",
       "      <td>0.007643</td>\n",
       "      <td>NaN</td>\n",
       "      <td>0.005395</td>\n",
       "      <td>-0.025675</td>\n",
       "      <td>1.000000</td>\n",
       "      <td>0.020416</td>\n",
       "      <td>-0.018301</td>\n",
       "      <td>0.015547</td>\n",
       "      <td>-0.015725</td>\n",
       "      <td>-0.048373</td>\n",
       "      <td>-0.006096</td>\n",
       "      <td>0.027820</td>\n",
       "      <td>-0.045922</td>\n",
       "      <td>-0.035282</td>\n",
       "      <td>-0.036508</td>\n",
       "      <td>0.085753</td>\n",
       "      <td>0.039455</td>\n",
       "      <td>-0.007755</td>\n",
       "      <td>-0.014261</td>\n",
       "      <td>0.066032</td>\n",
       "    </tr>\n",
       "    <tr>\n",
       "      <th>mother_age</th>\n",
       "      <td>-0.018457</td>\n",
       "      <td>NaN</td>\n",
       "      <td>-0.000451</td>\n",
       "      <td>-0.011593</td>\n",
       "      <td>0.020416</td>\n",
       "      <td>1.000000</td>\n",
       "      <td>0.399110</td>\n",
       "      <td>0.742392</td>\n",
       "      <td>0.335810</td>\n",
       "      <td>-0.263323</td>\n",
       "      <td>-0.045849</td>\n",
       "      <td>0.090401</td>\n",
       "      <td>0.030796</td>\n",
       "      <td>0.057461</td>\n",
       "      <td>0.043496</td>\n",
       "      <td>0.000159</td>\n",
       "      <td>0.005452</td>\n",
       "      <td>0.005863</td>\n",
       "      <td>0.039115</td>\n",
       "      <td>0.033764</td>\n",
       "    </tr>\n",
       "    <tr>\n",
       "      <th>mother_education</th>\n",
       "      <td>0.003821</td>\n",
       "      <td>NaN</td>\n",
       "      <td>-0.003451</td>\n",
       "      <td>0.003211</td>\n",
       "      <td>-0.018301</td>\n",
       "      <td>0.399110</td>\n",
       "      <td>1.000000</td>\n",
       "      <td>0.259815</td>\n",
       "      <td>0.696235</td>\n",
       "      <td>0.099964</td>\n",
       "      <td>-0.136828</td>\n",
       "      <td>0.195092</td>\n",
       "      <td>-0.122321</td>\n",
       "      <td>-0.052067</td>\n",
       "      <td>-0.025871</td>\n",
       "      <td>-0.002323</td>\n",
       "      <td>0.019762</td>\n",
       "      <td>0.017052</td>\n",
       "      <td>0.021949</td>\n",
       "      <td>0.073309</td>\n",
       "    </tr>\n",
       "    <tr>\n",
       "      <th>father_age</th>\n",
       "      <td>-0.013078</td>\n",
       "      <td>NaN</td>\n",
       "      <td>0.001398</td>\n",
       "      <td>-0.014299</td>\n",
       "      <td>0.015547</td>\n",
       "      <td>0.742392</td>\n",
       "      <td>0.259815</td>\n",
       "      <td>1.000000</td>\n",
       "      <td>0.260224</td>\n",
       "      <td>-0.218480</td>\n",
       "      <td>-0.026205</td>\n",
       "      <td>0.075194</td>\n",
       "      <td>0.010796</td>\n",
       "      <td>0.034027</td>\n",
       "      <td>0.020373</td>\n",
       "      <td>0.005177</td>\n",
       "      <td>0.005022</td>\n",
       "      <td>0.002271</td>\n",
       "      <td>0.031778</td>\n",
       "      <td>0.017392</td>\n",
       "    </tr>\n",
       "    <tr>\n",
       "      <th>father_education</th>\n",
       "      <td>0.011720</td>\n",
       "      <td>NaN</td>\n",
       "      <td>-0.009422</td>\n",
       "      <td>-0.000925</td>\n",
       "      <td>-0.015725</td>\n",
       "      <td>0.335810</td>\n",
       "      <td>0.696235</td>\n",
       "      <td>0.260224</td>\n",
       "      <td>1.000000</td>\n",
       "      <td>0.078996</td>\n",
       "      <td>-0.114504</td>\n",
       "      <td>0.180772</td>\n",
       "      <td>-0.191231</td>\n",
       "      <td>-0.122061</td>\n",
       "      <td>-0.097214</td>\n",
       "      <td>0.004523</td>\n",
       "      <td>0.016812</td>\n",
       "      <td>0.013756</td>\n",
       "      <td>0.017611</td>\n",
       "      <td>0.052254</td>\n",
       "    </tr>\n",
       "    <tr>\n",
       "      <th>interval_llb</th>\n",
       "      <td>0.003234</td>\n",
       "      <td>NaN</td>\n",
       "      <td>0.009382</td>\n",
       "      <td>0.042584</td>\n",
       "      <td>-0.048373</td>\n",
       "      <td>-0.263323</td>\n",
       "      <td>0.099964</td>\n",
       "      <td>-0.218480</td>\n",
       "      <td>0.078996</td>\n",
       "      <td>1.000000</td>\n",
       "      <td>-0.031113</td>\n",
       "      <td>0.017852</td>\n",
       "      <td>-0.079432</td>\n",
       "      <td>-0.068249</td>\n",
       "      <td>-0.029750</td>\n",
       "      <td>-0.002461</td>\n",
       "      <td>-0.043013</td>\n",
       "      <td>-0.020853</td>\n",
       "      <td>-0.110728</td>\n",
       "      <td>-0.051157</td>\n",
       "    </tr>\n",
       "    <tr>\n",
       "      <th>cigarettes</th>\n",
       "      <td>0.032670</td>\n",
       "      <td>NaN</td>\n",
       "      <td>-0.005764</td>\n",
       "      <td>-0.001175</td>\n",
       "      <td>-0.006096</td>\n",
       "      <td>-0.045849</td>\n",
       "      <td>-0.136828</td>\n",
       "      <td>-0.026205</td>\n",
       "      <td>-0.114504</td>\n",
       "      <td>-0.031113</td>\n",
       "      <td>1.000000</td>\n",
       "      <td>0.019042</td>\n",
       "      <td>0.016711</td>\n",
       "      <td>0.022871</td>\n",
       "      <td>0.028457</td>\n",
       "      <td>0.005220</td>\n",
       "      <td>-0.022248</td>\n",
       "      <td>-0.010893</td>\n",
       "      <td>0.002296</td>\n",
       "      <td>-0.055651</td>\n",
       "    </tr>\n",
       "    <tr>\n",
       "      <th>mother_height</th>\n",
       "      <td>0.013952</td>\n",
       "      <td>NaN</td>\n",
       "      <td>0.002210</td>\n",
       "      <td>0.009219</td>\n",
       "      <td>0.027820</td>\n",
       "      <td>0.090401</td>\n",
       "      <td>0.195092</td>\n",
       "      <td>0.075194</td>\n",
       "      <td>0.180772</td>\n",
       "      <td>0.017852</td>\n",
       "      <td>0.019042</td>\n",
       "      <td>1.000000</td>\n",
       "      <td>-0.030536</td>\n",
       "      <td>0.308676</td>\n",
       "      <td>0.355672</td>\n",
       "      <td>0.001787</td>\n",
       "      <td>0.006175</td>\n",
       "      <td>0.004596</td>\n",
       "      <td>0.032995</td>\n",
       "      <td>0.137427</td>\n",
       "    </tr>\n",
       "    <tr>\n",
       "      <th>mother_bmi</th>\n",
       "      <td>-0.005944</td>\n",
       "      <td>NaN</td>\n",
       "      <td>0.011688</td>\n",
       "      <td>0.013385</td>\n",
       "      <td>-0.045922</td>\n",
       "      <td>0.030796</td>\n",
       "      <td>-0.122321</td>\n",
       "      <td>0.010796</td>\n",
       "      <td>-0.191231</td>\n",
       "      <td>-0.079432</td>\n",
       "      <td>0.016711</td>\n",
       "      <td>-0.030536</td>\n",
       "      <td>1.000000</td>\n",
       "      <td>0.937246</td>\n",
       "      <td>0.846644</td>\n",
       "      <td>-0.003267</td>\n",
       "      <td>-0.054072</td>\n",
       "      <td>-0.026464</td>\n",
       "      <td>0.027049</td>\n",
       "      <td>0.049598</td>\n",
       "    </tr>\n",
       "    <tr>\n",
       "      <th>pre_preg_weight</th>\n",
       "      <td>-0.001375</td>\n",
       "      <td>NaN</td>\n",
       "      <td>0.011631</td>\n",
       "      <td>0.016195</td>\n",
       "      <td>-0.035282</td>\n",
       "      <td>0.057461</td>\n",
       "      <td>-0.052067</td>\n",
       "      <td>0.034027</td>\n",
       "      <td>-0.122061</td>\n",
       "      <td>-0.068249</td>\n",
       "      <td>0.022871</td>\n",
       "      <td>0.308676</td>\n",
       "      <td>0.937246</td>\n",
       "      <td>1.000000</td>\n",
       "      <td>0.929401</td>\n",
       "      <td>-0.003170</td>\n",
       "      <td>-0.049871</td>\n",
       "      <td>-0.023953</td>\n",
       "      <td>0.037542</td>\n",
       "      <td>0.092270</td>\n",
       "    </tr>\n",
       "    <tr>\n",
       "      <th>delivery_weight</th>\n",
       "      <td>0.007846</td>\n",
       "      <td>NaN</td>\n",
       "      <td>0.013020</td>\n",
       "      <td>0.019564</td>\n",
       "      <td>-0.036508</td>\n",
       "      <td>0.043496</td>\n",
       "      <td>-0.025871</td>\n",
       "      <td>0.020373</td>\n",
       "      <td>-0.097214</td>\n",
       "      <td>-0.029750</td>\n",
       "      <td>0.028457</td>\n",
       "      <td>0.355672</td>\n",
       "      <td>0.846644</td>\n",
       "      <td>0.929401</td>\n",
       "      <td>1.000000</td>\n",
       "      <td>-0.004638</td>\n",
       "      <td>-0.040253</td>\n",
       "      <td>-0.014067</td>\n",
       "      <td>0.064556</td>\n",
       "      <td>0.151820</td>\n",
       "    </tr>\n",
       "    <tr>\n",
       "      <th>prev_cesarian</th>\n",
       "      <td>0.002514</td>\n",
       "      <td>NaN</td>\n",
       "      <td>0.002513</td>\n",
       "      <td>-0.003195</td>\n",
       "      <td>0.085753</td>\n",
       "      <td>0.000159</td>\n",
       "      <td>-0.002323</td>\n",
       "      <td>0.005177</td>\n",
       "      <td>0.004523</td>\n",
       "      <td>-0.002461</td>\n",
       "      <td>0.005220</td>\n",
       "      <td>0.001787</td>\n",
       "      <td>-0.003267</td>\n",
       "      <td>-0.003170</td>\n",
       "      <td>-0.004638</td>\n",
       "      <td>1.000000</td>\n",
       "      <td>-0.005001</td>\n",
       "      <td>-0.003610</td>\n",
       "      <td>0.003480</td>\n",
       "      <td>0.045330</td>\n",
       "    </tr>\n",
       "    <tr>\n",
       "      <th>apgar5</th>\n",
       "      <td>0.022077</td>\n",
       "      <td>NaN</td>\n",
       "      <td>-0.001563</td>\n",
       "      <td>0.005795</td>\n",
       "      <td>0.039455</td>\n",
       "      <td>0.005452</td>\n",
       "      <td>0.019762</td>\n",
       "      <td>0.005022</td>\n",
       "      <td>0.016812</td>\n",
       "      <td>-0.043013</td>\n",
       "      <td>-0.022248</td>\n",
       "      <td>0.006175</td>\n",
       "      <td>-0.054072</td>\n",
       "      <td>-0.049871</td>\n",
       "      <td>-0.040253</td>\n",
       "      <td>-0.005001</td>\n",
       "      <td>1.000000</td>\n",
       "      <td>0.738595</td>\n",
       "      <td>-0.071946</td>\n",
       "      <td>0.177756</td>\n",
       "    </tr>\n",
       "    <tr>\n",
       "      <th>apgar10</th>\n",
       "      <td>0.002200</td>\n",
       "      <td>NaN</td>\n",
       "      <td>0.000292</td>\n",
       "      <td>0.005773</td>\n",
       "      <td>-0.007755</td>\n",
       "      <td>0.005863</td>\n",
       "      <td>0.017052</td>\n",
       "      <td>0.002271</td>\n",
       "      <td>0.013756</td>\n",
       "      <td>-0.020853</td>\n",
       "      <td>-0.010893</td>\n",
       "      <td>0.004596</td>\n",
       "      <td>-0.026464</td>\n",
       "      <td>-0.023953</td>\n",
       "      <td>-0.014067</td>\n",
       "      <td>-0.003610</td>\n",
       "      <td>0.738595</td>\n",
       "      <td>1.000000</td>\n",
       "      <td>-0.035991</td>\n",
       "      <td>0.125102</td>\n",
       "    </tr>\n",
       "    <tr>\n",
       "      <th>plurality</th>\n",
       "      <td>-0.000125</td>\n",
       "      <td>NaN</td>\n",
       "      <td>-0.004027</td>\n",
       "      <td>0.002871</td>\n",
       "      <td>-0.014261</td>\n",
       "      <td>0.039115</td>\n",
       "      <td>0.021949</td>\n",
       "      <td>0.031778</td>\n",
       "      <td>0.017611</td>\n",
       "      <td>-0.110728</td>\n",
       "      <td>0.002296</td>\n",
       "      <td>0.032995</td>\n",
       "      <td>0.027049</td>\n",
       "      <td>0.037542</td>\n",
       "      <td>0.064556</td>\n",
       "      <td>0.003480</td>\n",
       "      <td>-0.071946</td>\n",
       "      <td>-0.035991</td>\n",
       "      <td>1.000000</td>\n",
       "      <td>-0.262321</td>\n",
       "    </tr>\n",
       "    <tr>\n",
       "      <th>infant_weight</th>\n",
       "      <td>0.004342</td>\n",
       "      <td>NaN</td>\n",
       "      <td>0.006396</td>\n",
       "      <td>-0.000088</td>\n",
       "      <td>0.066032</td>\n",
       "      <td>0.033764</td>\n",
       "      <td>0.073309</td>\n",
       "      <td>0.017392</td>\n",
       "      <td>0.052254</td>\n",
       "      <td>-0.051157</td>\n",
       "      <td>-0.055651</td>\n",
       "      <td>0.137427</td>\n",
       "      <td>0.049598</td>\n",
       "      <td>0.092270</td>\n",
       "      <td>0.151820</td>\n",
       "      <td>0.045330</td>\n",
       "      <td>0.177756</td>\n",
       "      <td>0.125102</td>\n",
       "      <td>-0.262321</td>\n",
       "      <td>1.000000</td>\n",
       "    </tr>\n",
       "  </tbody>\n",
       "</table>\n",
       "</div>"
      ],
      "text/plain": [
       "                        id  birth_year  birth_month  birth_time  birth_place  \\\n",
       "id                1.000000         NaN     0.041772    0.005818     0.007643   \n",
       "birth_year             NaN         NaN          NaN         NaN          NaN   \n",
       "birth_month       0.041772         NaN     1.000000    0.001848     0.005395   \n",
       "birth_time        0.005818         NaN     0.001848    1.000000    -0.025675   \n",
       "birth_place       0.007643         NaN     0.005395   -0.025675     1.000000   \n",
       "mother_age       -0.018457         NaN    -0.000451   -0.011593     0.020416   \n",
       "mother_education  0.003821         NaN    -0.003451    0.003211    -0.018301   \n",
       "father_age       -0.013078         NaN     0.001398   -0.014299     0.015547   \n",
       "father_education  0.011720         NaN    -0.009422   -0.000925    -0.015725   \n",
       "interval_llb      0.003234         NaN     0.009382    0.042584    -0.048373   \n",
       "cigarettes        0.032670         NaN    -0.005764   -0.001175    -0.006096   \n",
       "mother_height     0.013952         NaN     0.002210    0.009219     0.027820   \n",
       "mother_bmi       -0.005944         NaN     0.011688    0.013385    -0.045922   \n",
       "pre_preg_weight  -0.001375         NaN     0.011631    0.016195    -0.035282   \n",
       "delivery_weight   0.007846         NaN     0.013020    0.019564    -0.036508   \n",
       "prev_cesarian     0.002514         NaN     0.002513   -0.003195     0.085753   \n",
       "apgar5            0.022077         NaN    -0.001563    0.005795     0.039455   \n",
       "apgar10           0.002200         NaN     0.000292    0.005773    -0.007755   \n",
       "plurality        -0.000125         NaN    -0.004027    0.002871    -0.014261   \n",
       "infant_weight     0.004342         NaN     0.006396   -0.000088     0.066032   \n",
       "\n",
       "                  mother_age  mother_education  father_age  father_education  \\\n",
       "id                 -0.018457          0.003821   -0.013078          0.011720   \n",
       "birth_year               NaN               NaN         NaN               NaN   \n",
       "birth_month        -0.000451         -0.003451    0.001398         -0.009422   \n",
       "birth_time         -0.011593          0.003211   -0.014299         -0.000925   \n",
       "birth_place         0.020416         -0.018301    0.015547         -0.015725   \n",
       "mother_age          1.000000          0.399110    0.742392          0.335810   \n",
       "mother_education    0.399110          1.000000    0.259815          0.696235   \n",
       "father_age          0.742392          0.259815    1.000000          0.260224   \n",
       "father_education    0.335810          0.696235    0.260224          1.000000   \n",
       "interval_llb       -0.263323          0.099964   -0.218480          0.078996   \n",
       "cigarettes         -0.045849         -0.136828   -0.026205         -0.114504   \n",
       "mother_height       0.090401          0.195092    0.075194          0.180772   \n",
       "mother_bmi          0.030796         -0.122321    0.010796         -0.191231   \n",
       "pre_preg_weight     0.057461         -0.052067    0.034027         -0.122061   \n",
       "delivery_weight     0.043496         -0.025871    0.020373         -0.097214   \n",
       "prev_cesarian       0.000159         -0.002323    0.005177          0.004523   \n",
       "apgar5              0.005452          0.019762    0.005022          0.016812   \n",
       "apgar10             0.005863          0.017052    0.002271          0.013756   \n",
       "plurality           0.039115          0.021949    0.031778          0.017611   \n",
       "infant_weight       0.033764          0.073309    0.017392          0.052254   \n",
       "\n",
       "                  interval_llb  cigarettes  mother_height  mother_bmi  \\\n",
       "id                    0.003234    0.032670       0.013952   -0.005944   \n",
       "birth_year                 NaN         NaN            NaN         NaN   \n",
       "birth_month           0.009382   -0.005764       0.002210    0.011688   \n",
       "birth_time            0.042584   -0.001175       0.009219    0.013385   \n",
       "birth_place          -0.048373   -0.006096       0.027820   -0.045922   \n",
       "mother_age           -0.263323   -0.045849       0.090401    0.030796   \n",
       "mother_education      0.099964   -0.136828       0.195092   -0.122321   \n",
       "father_age           -0.218480   -0.026205       0.075194    0.010796   \n",
       "father_education      0.078996   -0.114504       0.180772   -0.191231   \n",
       "interval_llb          1.000000   -0.031113       0.017852   -0.079432   \n",
       "cigarettes           -0.031113    1.000000       0.019042    0.016711   \n",
       "mother_height         0.017852    0.019042       1.000000   -0.030536   \n",
       "mother_bmi           -0.079432    0.016711      -0.030536    1.000000   \n",
       "pre_preg_weight      -0.068249    0.022871       0.308676    0.937246   \n",
       "delivery_weight      -0.029750    0.028457       0.355672    0.846644   \n",
       "prev_cesarian        -0.002461    0.005220       0.001787   -0.003267   \n",
       "apgar5               -0.043013   -0.022248       0.006175   -0.054072   \n",
       "apgar10              -0.020853   -0.010893       0.004596   -0.026464   \n",
       "plurality            -0.110728    0.002296       0.032995    0.027049   \n",
       "infant_weight        -0.051157   -0.055651       0.137427    0.049598   \n",
       "\n",
       "                  pre_preg_weight  delivery_weight  prev_cesarian    apgar5  \\\n",
       "id                      -0.001375         0.007846       0.002514  0.022077   \n",
       "birth_year                    NaN              NaN            NaN       NaN   \n",
       "birth_month              0.011631         0.013020       0.002513 -0.001563   \n",
       "birth_time               0.016195         0.019564      -0.003195  0.005795   \n",
       "birth_place             -0.035282        -0.036508       0.085753  0.039455   \n",
       "mother_age               0.057461         0.043496       0.000159  0.005452   \n",
       "mother_education        -0.052067        -0.025871      -0.002323  0.019762   \n",
       "father_age               0.034027         0.020373       0.005177  0.005022   \n",
       "father_education        -0.122061        -0.097214       0.004523  0.016812   \n",
       "interval_llb            -0.068249        -0.029750      -0.002461 -0.043013   \n",
       "cigarettes               0.022871         0.028457       0.005220 -0.022248   \n",
       "mother_height            0.308676         0.355672       0.001787  0.006175   \n",
       "mother_bmi               0.937246         0.846644      -0.003267 -0.054072   \n",
       "pre_preg_weight          1.000000         0.929401      -0.003170 -0.049871   \n",
       "delivery_weight          0.929401         1.000000      -0.004638 -0.040253   \n",
       "prev_cesarian           -0.003170        -0.004638       1.000000 -0.005001   \n",
       "apgar5                  -0.049871        -0.040253      -0.005001  1.000000   \n",
       "apgar10                 -0.023953        -0.014067      -0.003610  0.738595   \n",
       "plurality                0.037542         0.064556       0.003480 -0.071946   \n",
       "infant_weight            0.092270         0.151820       0.045330  0.177756   \n",
       "\n",
       "                   apgar10  plurality  infant_weight  \n",
       "id                0.002200  -0.000125       0.004342  \n",
       "birth_year             NaN        NaN            NaN  \n",
       "birth_month       0.000292  -0.004027       0.006396  \n",
       "birth_time        0.005773   0.002871      -0.000088  \n",
       "birth_place      -0.007755  -0.014261       0.066032  \n",
       "mother_age        0.005863   0.039115       0.033764  \n",
       "mother_education  0.017052   0.021949       0.073309  \n",
       "father_age        0.002271   0.031778       0.017392  \n",
       "father_education  0.013756   0.017611       0.052254  \n",
       "interval_llb     -0.020853  -0.110728      -0.051157  \n",
       "cigarettes       -0.010893   0.002296      -0.055651  \n",
       "mother_height     0.004596   0.032995       0.137427  \n",
       "mother_bmi       -0.026464   0.027049       0.049598  \n",
       "pre_preg_weight  -0.023953   0.037542       0.092270  \n",
       "delivery_weight  -0.014067   0.064556       0.151820  \n",
       "prev_cesarian    -0.003610   0.003480       0.045330  \n",
       "apgar5            0.738595  -0.071946       0.177756  \n",
       "apgar10           1.000000  -0.035991       0.125102  \n",
       "plurality        -0.035991   1.000000      -0.262321  \n",
       "infant_weight     0.125102  -0.262321       1.000000  "
      ]
     },
     "execution_count": 274,
     "metadata": {},
     "output_type": "execute_result"
    }
   ],
   "source": [
    "#birth.birth_time3 =  pd.to_datetime(birth.birth_time3).strftime('%H:%M:%S')\n",
    "birth.corr()"
   ]
  },
  {
   "cell_type": "code",
   "execution_count": 271,
   "id": "942e34b5",
   "metadata": {},
   "outputs": [
    {
     "data": {
      "text/plain": [
       "<AxesSubplot:>"
      ]
     },
     "execution_count": 271,
     "metadata": {},
     "output_type": "execute_result"
    },
    {
     "data": {
      "image/png": "[encoded data removed]",
      "text/plain": [
       "<Figure size 432x288 with 2 Axes>"
      ]
     },
     "metadata": {
      "needs_background": "light"
     },
     "output_type": "display_data"
    }
   ],
   "source": [
    "sns.heatmap(birth.corr())"
   ]
  },
  {
   "cell_type": "markdown",
   "id": "6704b5cf",
   "metadata": {},
   "source": [
    "#  single, twins, triplets, quadruplets"
   ]
  },
  {
   "cell_type": "code",
   "execution_count": 388,
   "id": "a2fdc4ef",
   "metadata": {},
   "outputs": [
    {
     "data": {
      "text/plain": [
       "plurality\n",
       "1    175179\n",
       "2      5668\n",
       "3       142\n",
       "4         3\n",
       "Name: plurality, dtype: int64"
      ]
     },
     "execution_count": 388,
     "metadata": {},
     "output_type": "execute_result"
    }
   ],
   "source": [
    "birth.groupby('plurality').plurality.size()"
   ]
  },
  {
   "cell_type": "markdown",
   "id": "39ebfc25",
   "metadata": {},
   "source": [
    "# 1. Child born Count by birth Place"
   ]
  },
  {
   "cell_type": "code",
   "execution_count": 70,
   "id": "e9191605",
   "metadata": {},
   "outputs": [
    {
     "data": {
      "image/png": "[encoded data removed]",
      "text/plain": [
       "<Figure size 432x288 with 1 Axes>"
      ]
     },
     "metadata": {
      "needs_background": "light"
     },
     "output_type": "display_data"
    }
   ],
   "source": [
    "birth.groupby('birth_place').plurality.sum().plot(kind = \"bar\")"
   ]
  },
  {
   "cell_type": "code",
   "execution_count": 224,
   "id": "6e365608",
   "metadata": {},
   "outputs": [],
   "source": [
    "#(birth.groupby('birth_month').plurality.mean())\n"
   ]
  },
  {
   "cell_type": "code",
   "execution_count": 72,
   "id": "8c3cd4f5",
   "metadata": {},
   "outputs": [],
   "source": [
    "tot = birth.plurality.sum()"
   ]
  },
  {
   "cell_type": "code",
   "execution_count": 64,
   "id": "a254a206",
   "metadata": {},
   "outputs": [
    {
     "data": {
      "text/plain": [
       "186953"
      ]
     },
     "execution_count": 64,
     "metadata": {},
     "output_type": "execute_result"
    }
   ],
   "source": [
    "tot"
   ]
  },
  {
   "cell_type": "code",
   "execution_count": 62,
   "id": "87049ce3",
   "metadata": {},
   "outputs": [
    {
     "data": {
      "text/plain": [
       "180992"
      ]
     },
     "execution_count": 62,
     "metadata": {},
     "output_type": "execute_result"
    }
   ],
   "source": [
    "birth.plurality.count()"
   ]
  },
  {
   "cell_type": "code",
   "execution_count": 87,
   "id": "fa494d2a",
   "metadata": {},
   "outputs": [
    {
     "data": {
      "text/plain": [
       "birth_place\n",
       "1.0    183251\n",
       "2.0      1151\n",
       "3.0      1761\n",
       "4.0       287\n",
       "5.0       244\n",
       "6.0        32\n",
       "7.0       212\n",
       "Name: plurality, dtype: int64"
      ]
     },
     "execution_count": 87,
     "metadata": {},
     "output_type": "execute_result"
    }
   ],
   "source": [
    "birth.groupby('birth_place').plurality.sum()"
   ]
  },
  {
   "cell_type": "markdown",
   "id": "993061ea",
   "metadata": {},
   "source": [
    "# 1.1 Child born Count by birth month"
   ]
  },
  {
   "cell_type": "code",
   "execution_count": 376,
   "id": "0fa724e1",
   "metadata": {},
   "outputs": [
    {
     "data": {
      "text/plain": [
       "<AxesSubplot:xlabel='birth_month'>"
      ]
     },
     "execution_count": 376,
     "metadata": {},
     "output_type": "execute_result"
    },
    {
     "data": {
      "image/png": "[encoded data removed]",
      "text/plain": [
       "<Figure size 432x288 with 1 Axes>"
      ]
     },
     "metadata": {
      "needs_background": "light"
     },
     "output_type": "display_data"
    }
   ],
   "source": [
    "birth.groupby('birth_month').plurality.sum().plot(kind = \"bar\")"
   ]
  },
  {
   "cell_type": "code",
   "execution_count": null,
   "id": "c03c485b",
   "metadata": {},
   "outputs": [],
   "source": []
  },
  {
   "cell_type": "markdown",
   "id": "ca4e3b88",
   "metadata": {},
   "source": [
    "### Child born Count by birth place"
   ]
  },
  {
   "cell_type": "code",
   "execution_count": null,
   "id": "e02ab8d6",
   "metadata": {},
   "outputs": [],
   "source": [
    "birth.groupby('birth_month').plurality.sum()"
   ]
  },
  {
   "cell_type": "code",
   "execution_count": null,
   "id": "b758cff9",
   "metadata": {},
   "outputs": [],
   "source": [
    "birth.groupby('birth_place').plurality.sum().plot(kind = \"bar\")\n",
    "plt.xlabel(\"birth_place\")\n",
    "plt.ylabel(\"plurality\")\n",
    "plt.show()"
   ]
  },
  {
   "cell_type": "markdown",
   "id": "3e6b49fc",
   "metadata": {},
   "source": [
    "# 2. Sum of gender"
   ]
  },
  {
   "cell_type": "code",
   "execution_count": 276,
   "id": "b2d0ba6a",
   "metadata": {},
   "outputs": [
    {
     "data": {
      "image/png": "[encoded data removed]",
      "text/plain": [
       "<Figure size 720x504 with 1 Axes>"
      ]
     },
     "metadata": {
      "needs_background": "light"
     },
     "output_type": "display_data"
    }
   ],
   "source": [
    "#plt.bar(birth['birth_place'], birth['plurality'].sum())\n",
    "\n",
    "#birth.groupby('gender').plurality.sum().plot(kind = \"bar\")\n",
    "b1 = birth.groupby('gender').plurality.sum()\n",
    "\n",
    "b1.plot(kind = \"bar\")\n",
    "ax = b1.plot.bar()\n",
    "\n",
    "ax = b1.plot(kind='bar', figsize=(10, 7), title='Birth Count by gender',\n",
    "             xlabel='Gender', ylabel='Population', legend=False)\n",
    "\n",
    "# annotate\n",
    "ax.bar_label(ax.containers[0], label_type='edge')\n",
    "\n",
    "# pad the spacing between the number and the edge of the figure\n",
    "ax.margins(y=0.1)\n",
    "plt.savefig('Birth Count by gender.png')"
   ]
  },
  {
   "cell_type": "markdown",
   "id": "7ffff6cc",
   "metadata": {},
   "source": [
    "# 2.1 sum of Gender by location"
   ]
  },
  {
   "cell_type": "code",
   "execution_count": 279,
   "id": "e132aa79",
   "metadata": {},
   "outputs": [
    {
     "data": {
      "image/png": "[encoded data removed]",
      "text/plain": [
       "<Figure size 864x576 with 1 Axes>"
      ]
     },
     "metadata": {
      "needs_background": "light"
     },
     "output_type": "display_data"
    }
   ],
   "source": [
    "group_data = birth.groupby(['birth_place', 'gender'])['plurality'].sum() #sum function\n",
    "group_data.plot(kind = \"bar\")\n",
    "ax = group_data.plot.bar()\n",
    "\n",
    "ax = group_data.plot(kind='bar', figsize=(12, 8), title='Birth Count by gender and location',\n",
    "             xlabel='Gender And Location', ylabel='Population', legend=False)\n",
    "\n",
    "# annotate\n",
    "ax.bar_label(ax.containers[0], label_type='edge')\n",
    "\n",
    "# pad the spacing between the number and the edge of the figure\n",
    "ax.margins(y=0.1)"
   ]
  },
  {
   "cell_type": "markdown",
   "id": "b10cf50a",
   "metadata": {},
   "source": [
    "# 2.2 sum of Gender by months"
   ]
  },
  {
   "cell_type": "code",
   "execution_count": 281,
   "id": "fdaa43df",
   "metadata": {},
   "outputs": [
    {
     "data": {
      "image/png": "[encoded data removed]",
      "text/plain": [
       "<Figure size 864x576 with 1 Axes>"
      ]
     },
     "metadata": {
      "needs_background": "light"
     },
     "output_type": "display_data"
    }
   ],
   "source": [
    "#birth.groupby('birth_place').get_group(1)\n",
    "group_data = birth.groupby(['birth_month', 'gender'])['plurality'].sum() #sum function\n",
    "group_data.plot(kind = \"bar\")\n",
    "ax = group_data.plot.bar()\n",
    "\n",
    "ax = group_data.plot(kind='bar', figsize=(12, 8), title='Birth Count by gender and Month',\n",
    "             xlabel='Gender And Month', ylabel='Population', legend=False)\n",
    "\n",
    "# annotate\n",
    "ax.bar_label(ax.containers[0], label_type='edge')\n",
    "\n",
    "# pad the spacing between the number and the edge of the figure\n",
    "ax.margins(y=0.1)"
   ]
  },
  {
   "cell_type": "markdown",
   "id": "8ce13d96",
   "metadata": {},
   "source": [
    "# 3 . Does Cigarette Affect  Infant's Health?"
   ]
  },
  {
   "cell_type": "markdown",
   "id": "c198e732",
   "metadata": {},
   "source": [
    "###  Infertility : I think not, it may be one of the factor"
   ]
  },
  {
   "cell_type": "markdown",
   "id": "01d0ee6b",
   "metadata": {},
   "source": [
    "# 3.1 Cigarettes and Interfility treatment"
   ]
  },
  {
   "cell_type": "code",
   "execution_count": 179,
   "id": "883e59ed",
   "metadata": {},
   "outputs": [
    {
     "data": {
      "text/plain": [
       "3754"
      ]
     },
     "execution_count": 179,
     "metadata": {},
     "output_type": "execute_result"
    }
   ],
   "source": [
    "birth[(birth['infertility_treatment'] == 'Y')].plurality.size"
   ]
  },
  {
   "cell_type": "code",
   "execution_count": 182,
   "id": "328581a3",
   "metadata": {},
   "outputs": [
    {
     "data": {
      "text/plain": [
       "9116"
      ]
     },
     "execution_count": 182,
     "metadata": {},
     "output_type": "execute_result"
    }
   ],
   "source": [
    "\n",
    "birth[(birth['cigarettes'] > 5)].plurality.size"
   ]
  },
  {
   "cell_type": "code",
   "execution_count": 229,
   "id": "5645814b",
   "metadata": {},
   "outputs": [
    {
     "data": {
      "text/plain": [
       "27"
      ]
     },
     "execution_count": 229,
     "metadata": {},
     "output_type": "execute_result"
    }
   ],
   "source": [
    "#birth[(birth['cigarettes'] > 0) & (birth.groupby('infertility_treatment').get_group('Y'))]\n",
    "birth[(birth['cigarettes'] > 5) & (birth['infertility_treatment'] == 'Y')].plurality.size"
   ]
  },
  {
   "cell_type": "markdown",
   "id": "655bcce3",
   "metadata": {},
   "source": [
    "# 3.2 Cigarettes and APGAR5"
   ]
  },
  {
   "cell_type": "code",
   "execution_count": 183,
   "id": "1d0a783b",
   "metadata": {},
   "outputs": [
    {
     "data": {
      "text/plain": [
       "3789"
      ]
     },
     "execution_count": 183,
     "metadata": {},
     "output_type": "execute_result"
    }
   ],
   "source": [
    "birth[(birth['apgar5'] < 7.0)].plurality.size"
   ]
  },
  {
   "cell_type": "code",
   "execution_count": 377,
   "id": "d2c41670",
   "metadata": {},
   "outputs": [
    {
     "data": {
      "text/plain": [
       "261"
      ]
     },
     "execution_count": 377,
     "metadata": {},
     "output_type": "execute_result"
    }
   ],
   "source": [
    "birth[(birth['cigarettes'] > 5) & (birth['apgar5'] < 7.0 )].plurality.size"
   ]
  },
  {
   "cell_type": "markdown",
   "id": "40d759e3",
   "metadata": {},
   "source": [
    "# 4. does mothers BMI affects the child's health at birth ?  mothers BMI and APGAR"
   ]
  },
  {
   "cell_type": "code",
   "execution_count": 185,
   "id": "868b3c3a",
   "metadata": {},
   "outputs": [
    {
     "data": {
      "text/plain": [
       "3789"
      ]
     },
     "execution_count": 185,
     "metadata": {},
     "output_type": "execute_result"
    }
   ],
   "source": [
    "birth[(birth['apgar5'] < 7.0 )].plurality.size"
   ]
  },
  {
   "cell_type": "code",
   "execution_count": 186,
   "id": "1f37f5d1",
   "metadata": {},
   "outputs": [
    {
     "data": {
      "text/plain": [
       "99969"
      ]
     },
     "execution_count": 186,
     "metadata": {},
     "output_type": "execute_result"
    }
   ],
   "source": [
    "birth[(birth['mother_bmi'] > 25  )].plurality.size"
   ]
  },
  {
   "cell_type": "code",
   "execution_count": 383,
   "id": "fef54ef8",
   "metadata": {},
   "outputs": [
    {
     "data": {
      "text/plain": [
       "1937"
      ]
     },
     "execution_count": 383,
     "metadata": {},
     "output_type": "execute_result"
    }
   ],
   "source": [
    "birth[(birth['mother_bmi'] > 27 ) & (birth['apgar5'] < 7.0 )].plurality.size"
   ]
  },
  {
   "cell_type": "code",
   "execution_count": 380,
   "id": "b2a0781b",
   "metadata": {},
   "outputs": [
    {
     "data": {
      "text/plain": [
       "764"
      ]
     },
     "execution_count": 380,
     "metadata": {},
     "output_type": "execute_result"
    }
   ],
   "source": [
    "birth[(birth['mother_bmi'] > 35 ) & (birth['apgar5'] < 7.0 )].plurality.size"
   ]
  },
  {
   "cell_type": "code",
   "execution_count": 382,
   "id": "b6bd01da",
   "metadata": {},
   "outputs": [
    {
     "data": {
      "text/plain": [
       "143"
      ]
     },
     "execution_count": 382,
     "metadata": {},
     "output_type": "execute_result"
    }
   ],
   "source": [
    "birth[(birth['mother_bmi'] < 19  ) & (birth['apgar5'] < 7.0 )].plurality.size"
   ]
  },
  {
   "cell_type": "code",
   "execution_count": 189,
   "id": "0dd04dd3",
   "metadata": {},
   "outputs": [
    {
     "data": {
      "text/plain": [
       "1474"
      ]
     },
     "execution_count": 189,
     "metadata": {},
     "output_type": "execute_result"
    }
   ],
   "source": [
    "birth[(birth['apgar5'] < 5.0 )].plurality.size"
   ]
  },
  {
   "cell_type": "code",
   "execution_count": 231,
   "id": "d4d79585",
   "metadata": {},
   "outputs": [
    {
     "data": {
      "text/plain": [
       "916"
      ]
     },
     "execution_count": 231,
     "metadata": {},
     "output_type": "execute_result"
    }
   ],
   "source": [
    "birth[(birth['mother_bmi'] > 25 ) & (birth['apgar5'] < 5.0 )].plurality.size"
   ]
  },
  {
   "cell_type": "code",
   "execution_count": 232,
   "id": "311c646b",
   "metadata": {},
   "outputs": [
    {
     "data": {
      "text/plain": [
       "311"
      ]
     },
     "execution_count": 232,
     "metadata": {},
     "output_type": "execute_result"
    }
   ],
   "source": [
    "birth[(birth['mother_bmi'] > 35 ) & (birth['apgar5'] < 5.0 )].plurality.size"
   ]
  },
  {
   "cell_type": "markdown",
   "id": "958c6722",
   "metadata": {},
   "source": [
    "# 4.1 mothers BMI vs prev_preterm birth"
   ]
  },
  {
   "cell_type": "code",
   "execution_count": 191,
   "id": "893e9350",
   "metadata": {},
   "outputs": [
    {
     "data": {
      "text/plain": [
       "6786"
      ]
     },
     "execution_count": 191,
     "metadata": {},
     "output_type": "execute_result"
    }
   ],
   "source": [
    "birth[(birth['prev_preterm_birth'] == 'Y' )].plurality.size"
   ]
  },
  {
   "cell_type": "code",
   "execution_count": 384,
   "id": "ce58584c",
   "metadata": {},
   "outputs": [
    {
     "data": {
      "text/plain": [
       "3418"
      ]
     },
     "execution_count": 384,
     "metadata": {},
     "output_type": "execute_result"
    }
   ],
   "source": [
    "birth[(birth['mother_bmi'] > 27 ) & (birth['prev_preterm_birth'] == 'Y' )].plurality.size"
   ]
  },
  {
   "cell_type": "code",
   "execution_count": 386,
   "id": "ffe8ab6b",
   "metadata": {},
   "outputs": [
    {
     "data": {
      "text/plain": [
       "2431"
      ]
     },
     "execution_count": 386,
     "metadata": {},
     "output_type": "execute_result"
    }
   ],
   "source": [
    "birth[(birth['mother_bmi'] < 25 ) & (birth['prev_preterm_birth'] == 'Y' )].plurality.size"
   ]
  },
  {
   "cell_type": "markdown",
   "id": "048a4fbf",
   "metadata": {},
   "source": [
    "\n",
    "# 5. Infant’s  health vs Sexually transmitted virus "
   ]
  },
  {
   "cell_type": "code",
   "execution_count": 413,
   "id": "986eca75",
   "metadata": {},
   "outputs": [
    {
     "data": {
      "text/plain": [
       "597"
      ]
     },
     "execution_count": 413,
     "metadata": {},
     "output_type": "execute_result"
    }
   ],
   "source": [
    "birth[(birth['gonorrhea'] == 'Y' )].plurality.size"
   ]
  },
  {
   "cell_type": "markdown",
   "id": "4671973f",
   "metadata": {},
   "source": [
    "### gonorrhea:597 , syphilis:314, chlamydia:3348, hepatitis_b:342, hepatitis_c:900"
   ]
  },
  {
   "cell_type": "code",
   "execution_count": 418,
   "id": "6c09325b",
   "metadata": {},
   "outputs": [
    {
     "data": {
      "text/plain": [
       "18"
      ]
     },
     "execution_count": 418,
     "metadata": {},
     "output_type": "execute_result"
    }
   ],
   "source": [
    "\n",
    "birth[(birth['gonorrhea'] == 'Y' ) & (birth['apgar5'] < 7.0 )].plurality.size"
   ]
  },
  {
   "cell_type": "code",
   "execution_count": 419,
   "id": "e20d0cdc",
   "metadata": {},
   "outputs": [
    {
     "data": {
      "text/plain": [
       "314"
      ]
     },
     "execution_count": 419,
     "metadata": {},
     "output_type": "execute_result"
    }
   ],
   "source": [
    "birth[(birth['syphilis'] == 'Y' ) ].plurality.size"
   ]
  },
  {
   "cell_type": "code",
   "execution_count": 420,
   "id": "e21ebda6",
   "metadata": {},
   "outputs": [
    {
     "data": {
      "text/plain": [
       "9"
      ]
     },
     "execution_count": 420,
     "metadata": {},
     "output_type": "execute_result"
    }
   ],
   "source": [
    "birth[(birth['syphilis'] == 'Y' ) & (birth['apgar5'] < 7.0 )].plurality.size\n"
   ]
  },
  {
   "cell_type": "code",
   "execution_count": 421,
   "id": "79c368cf",
   "metadata": {},
   "outputs": [
    {
     "data": {
      "text/plain": [
       "3348"
      ]
     },
     "execution_count": 421,
     "metadata": {},
     "output_type": "execute_result"
    }
   ],
   "source": [
    "birth[(birth['chlamydia'] == 'Y' )].plurality.size"
   ]
  },
  {
   "cell_type": "code",
   "execution_count": 422,
   "id": "b8e0ff21",
   "metadata": {},
   "outputs": [
    {
     "data": {
      "text/plain": [
       "86"
      ]
     },
     "execution_count": 422,
     "metadata": {},
     "output_type": "execute_result"
    }
   ],
   "source": [
    "birth[(birth['chlamydia'] == 'Y' ) & (birth['apgar5'] < 7.0 )].plurality.size"
   ]
  },
  {
   "cell_type": "code",
   "execution_count": 416,
   "id": "07966ccf",
   "metadata": {},
   "outputs": [
    {
     "data": {
      "text/plain": [
       "342"
      ]
     },
     "execution_count": 416,
     "metadata": {},
     "output_type": "execute_result"
    }
   ],
   "source": [
    "birth[(birth['hepatitis_b'] == 'Y' ) ].plurality.size"
   ]
  },
  {
   "cell_type": "code",
   "execution_count": 235,
   "id": "47ead1a4",
   "metadata": {},
   "outputs": [
    {
     "data": {
      "text/plain": [
       "9"
      ]
     },
     "execution_count": 235,
     "metadata": {},
     "output_type": "execute_result"
    }
   ],
   "source": [
    "birth[(birth['hepatitis_b'] == 'Y' ) & (birth['apgar5'] < 7.0 )].plurality.size"
   ]
  },
  {
   "cell_type": "code",
   "execution_count": 417,
   "id": "d96b7a63",
   "metadata": {},
   "outputs": [
    {
     "data": {
      "text/plain": [
       "900"
      ]
     },
     "execution_count": 417,
     "metadata": {},
     "output_type": "execute_result"
    }
   ],
   "source": [
    "birth[(birth['hepatitis_c'] == 'Y' )].plurality.size"
   ]
  },
  {
   "cell_type": "code",
   "execution_count": 236,
   "id": "fcf074ed",
   "metadata": {},
   "outputs": [
    {
     "data": {
      "text/plain": [
       "26"
      ]
     },
     "execution_count": 236,
     "metadata": {},
     "output_type": "execute_result"
    }
   ],
   "source": [
    "birth[(birth['hepatitis_c'] == 'Y' ) & (birth['apgar5'] < 7.0 )].plurality.size"
   ]
  },
  {
   "cell_type": "markdown",
   "id": "dfdd0576",
   "metadata": {},
   "source": [
    "### I think Sexually transmitted virus does not reflect in health at birth"
   ]
  },
  {
   "cell_type": "code",
   "execution_count": null,
   "id": "759ad2ee",
   "metadata": {},
   "outputs": [],
   "source": []
  },
  {
   "cell_type": "markdown",
   "id": "f598f7b1",
   "metadata": {},
   "source": [
    "# 5.1 Infant’s weight vs Sexually transmitted virus "
   ]
  },
  {
   "cell_type": "code",
   "execution_count": 387,
   "id": "e773409e",
   "metadata": {},
   "outputs": [
    {
     "data": {
      "text/plain": [
       "11870"
      ]
     },
     "execution_count": 387,
     "metadata": {},
     "output_type": "execute_result"
    }
   ],
   "source": [
    "birth[(birth['infant_weight'] < 2400 )].plurality.size"
   ]
  },
  {
   "cell_type": "code",
   "execution_count": 237,
   "id": "68fb4331",
   "metadata": {},
   "outputs": [
    {
     "data": {
      "text/plain": [
       "72"
      ]
     },
     "execution_count": 237,
     "metadata": {},
     "output_type": "execute_result"
    }
   ],
   "source": [
    "birth[(birth['gonorrhea'] == 'Y' ) & (birth['infant_weight'] < 2400 )].plurality.size"
   ]
  },
  {
   "cell_type": "code",
   "execution_count": 238,
   "id": "c1f21482",
   "metadata": {},
   "outputs": [
    {
     "data": {
      "text/plain": [
       "33"
      ]
     },
     "execution_count": 238,
     "metadata": {},
     "output_type": "execute_result"
    }
   ],
   "source": [
    "birth[(birth['syphilis'] == 'Y' ) &  (birth['infant_weight'] < 2400 )].plurality.size"
   ]
  },
  {
   "cell_type": "code",
   "execution_count": 239,
   "id": "9849b355",
   "metadata": {},
   "outputs": [
    {
     "data": {
      "text/plain": [
       "310"
      ]
     },
     "execution_count": 239,
     "metadata": {},
     "output_type": "execute_result"
    }
   ],
   "source": [
    "birth[(birth['chlamydia'] == 'Y' ) & (birth['infant_weight'] < 2400 )].plurality.size"
   ]
  },
  {
   "cell_type": "code",
   "execution_count": 240,
   "id": "bc0f5609",
   "metadata": {},
   "outputs": [
    {
     "data": {
      "text/plain": [
       "25"
      ]
     },
     "execution_count": 240,
     "metadata": {},
     "output_type": "execute_result"
    }
   ],
   "source": [
    "birth[(birth['hepatitis_b'] == 'Y' ) & (birth['infant_weight'] < 2400 )].plurality.size"
   ]
  },
  {
   "cell_type": "code",
   "execution_count": 241,
   "id": "fcd5f93f",
   "metadata": {},
   "outputs": [
    {
     "data": {
      "text/plain": [
       "111"
      ]
     },
     "execution_count": 241,
     "metadata": {},
     "output_type": "execute_result"
    }
   ],
   "source": [
    "birth[(birth['hepatitis_c'] == 'Y' ) & (birth['infant_weight'] < 2400 )].plurality.size"
   ]
  },
  {
   "cell_type": "code",
   "execution_count": null,
   "id": "df4b8cf2",
   "metadata": {},
   "outputs": [],
   "source": []
  },
  {
   "cell_type": "code",
   "execution_count": null,
   "id": "ebfc25ea",
   "metadata": {},
   "outputs": [],
   "source": []
  },
  {
   "cell_type": "code",
   "execution_count": null,
   "id": "9921c699",
   "metadata": {},
   "outputs": [],
   "source": []
  },
  {
   "cell_type": "code",
   "execution_count": null,
   "id": "d75300af",
   "metadata": {},
   "outputs": [],
   "source": [
    "plt.bar(birth['mother_bmi'] > 35,  birth['plurality'].sum())\n",
    "plt.ylabel(\"birth_place\")\n",
    "plt.xlabel(\"plurality\")\n",
    "plt.show()"
   ]
  },
  {
   "cell_type": "code",
   "execution_count": 173,
   "id": "e82dea9e",
   "metadata": {},
   "outputs": [],
   "source": [
    "#birth.groupby('birth_place').mean().plot(kind = \"bar\")"
   ]
  },
  {
   "cell_type": "code",
   "execution_count": 278,
   "id": "b195b05d",
   "metadata": {},
   "outputs": [],
   "source": [
    "#birth[(birth['birth_time'] > 1800)].plot(kind ='bar')"
   ]
  },
  {
   "cell_type": "code",
   "execution_count": 277,
   "id": "0f2b6b87",
   "metadata": {},
   "outputs": [],
   "source": [
    "#birth.groupby('gender').plurality.sum().plot(kind = \"bar\")"
   ]
  },
  {
   "cell_type": "code",
   "execution_count": 172,
   "id": "af0d71f4",
   "metadata": {},
   "outputs": [],
   "source": [
    "#\n",
    "#df = pd.DataFrame(birth)\n",
    "#print(df)\n",
    "\n",
    "#gender_by_place = df.groupby('birth_month').agg(df2 = ('gender', 'sum'))\n",
    "\n",
    "#print(gender_by_place)"
   ]
  },
  {
   "cell_type": "code",
   "execution_count": 171,
   "id": "07e946ee",
   "metadata": {},
   "outputs": [],
   "source": [
    "#group_data = (birth[birth.groupby(['gender']).birth.groupby(['birth_place'])].plurality.sum())#sum function\n",
    "#print(group_data)\n",
    "#tot_20_25 = (birth[(birth.mother_age >= 20) & (birth.mother_age <= 25)].plurality.size)"
   ]
  },
  {
   "cell_type": "code",
   "execution_count": 76,
   "id": "91a892da",
   "metadata": {},
   "outputs": [
    {
     "name": "stdout",
     "output_type": "stream",
     "text": [
      "gender  birth_place\n",
      "F       1.0            89547\n",
      "        2.0              557\n",
      "        3.0              891\n",
      "        4.0              139\n",
      "        5.0              122\n",
      "        6.0               14\n",
      "        7.0              100\n",
      "M       1.0            93704\n",
      "        2.0              594\n",
      "        3.0              870\n",
      "        4.0              148\n",
      "        5.0              122\n",
      "        6.0               18\n",
      "        7.0              112\n",
      "Name: plurality, dtype: int64\n"
     ]
    }
   ],
   "source": [
    "#birth['COUNTER'] =1\n",
    "group_data = birth.groupby(['gender','birth_place'])['plurality'].sum() #sum function\n",
    "print(group_data)"
   ]
  },
  {
   "cell_type": "code",
   "execution_count": null,
   "id": "d5f35ddb",
   "metadata": {},
   "outputs": [],
   "source": [
    "\n"
   ]
  },
  {
   "cell_type": "code",
   "execution_count": 12,
   "id": "ae2da3e2",
   "metadata": {},
   "outputs": [],
   "source": [
    "#pip list"
   ]
  },
  {
   "cell_type": "code",
   "execution_count": 8,
   "id": "06d239a1",
   "metadata": {},
   "outputs": [],
   "source": [
    "#pip show matplotlib"
   ]
  },
  {
   "cell_type": "code",
   "execution_count": null,
   "id": "62579381",
   "metadata": {},
   "outputs": [],
   "source": []
  },
  {
   "cell_type": "code",
   "execution_count": 165,
   "id": "a358ff99",
   "metadata": {},
   "outputs": [],
   "source": [
    "#birth[(birth['hepatitis_b'] == 'Y')  &  (birth['hepatitis_c'] == 'Y') ]\n",
    "#sns.relplot(x=\"pre_preg_weight\", y=\"delivery_weight\", data=birth)"
   ]
  },
  {
   "cell_type": "code",
   "execution_count": 164,
   "id": "8b1d4ae3",
   "metadata": {},
   "outputs": [],
   "source": [
    "#sns.pairplot(birth)"
   ]
  },
  {
   "cell_type": "code",
   "execution_count": 320,
   "id": "de9d943c",
   "metadata": {},
   "outputs": [],
   "source": [
    "#birth[(birth['hepatitis_b'] == 'Y')  &  (birth['hepatitis_c'] == 'Y') ]\n",
    "#sns.relplot(x=(birth['hepatitis_b'] == 'Y'), y=(birth['hepatitis_c'] == 'Y'), data=birth)"
   ]
  },
  {
   "cell_type": "markdown",
   "id": "fcb756d8",
   "metadata": {},
   "source": [
    "# 6. mother age under 20  _anasthesia given"
   ]
  },
  {
   "cell_type": "code",
   "execution_count": 313,
   "id": "6c6bf49a",
   "metadata": {},
   "outputs": [
    {
     "name": "stdout",
     "output_type": "stream",
     "text": [
      "80.54931335830211\n"
     ]
    }
   ],
   "source": [
    "tot_20 = (birth[(birth.mother_age < 20) ].plurality.size)\n",
    "tot_20_Y = (birth[(birth.mother_age < 20) & (birth.anesthesia == 'Y')].plurality.size)\n",
    "tot_20_N = (birth[(birth.mother_age < 20)  & (birth.anesthesia == 'N')].plurality.size)\n",
    "\n",
    "tot_20, tot_20_Y, tot_20_N\n",
    "\n",
    "per20 = tot_20_Y / tot_20\n",
    "\n",
    "per20i = per20 * 100\n",
    "\n",
    "print(per20i)\n",
    "#Anestesia given 80 percent of people age under 20"
   ]
  },
  {
   "cell_type": "code",
   "execution_count": 314,
   "id": "1bce1085",
   "metadata": {},
   "outputs": [
    {
     "name": "stdout",
     "output_type": "stream",
     "text": [
      "80.42446941323345\n"
     ]
    }
   ],
   "source": [
    "# prev_cesarian correlate with anesthesia\n",
    "tot_20 = (birth[(birth.mother_age < 20) ].plurality.size)\n",
    "tot_20_Y = (birth[(birth.mother_age < 20) & (birth.anesthesia == 'Y') & (birth.prev_cesarian == 0)].plurality.size)\n",
    "tot_20_N = (birth[(birth.mother_age < 20)  & (birth.anesthesia == 'N') & (birth.prev_cesarian == 0)].plurality.size)\n",
    "\n",
    "tot_20, tot_20_Y, tot_20_N\n",
    "\n",
    "per20 = tot_20_Y / tot_20\n",
    "\n",
    "per20i = per20 * 100\n",
    "\n",
    "print(per20i)"
   ]
  },
  {
   "cell_type": "markdown",
   "id": "b242093d",
   "metadata": {},
   "source": [
    "# 6.1 mother age between 20 to 25 _anasthesia given"
   ]
  },
  {
   "cell_type": "code",
   "execution_count": 315,
   "id": "9e7c1bb7",
   "metadata": {},
   "outputs": [
    {
     "name": "stdout",
     "output_type": "stream",
     "text": [
      "78.31096329730372\n"
     ]
    }
   ],
   "source": [
    "\n",
    "tot_20_25 = (birth[(birth.mother_age >= 20) & (birth.mother_age <= 25)].plurality.size)\n",
    "tot_20_25Y = (birth[(birth.mother_age >= 20) & (birth.mother_age <= 25) & (birth.anesthesia == 'Y')].plurality.size)\n",
    "tot_20_25N = (birth[(birth.mother_age >= 20) & (birth.mother_age <= 25) & (birth.anesthesia == 'N')].plurality.size)\n",
    "\n",
    "tot_20_25, tot_20_25Y, tot_20_25N\n",
    "\n",
    "\n",
    "per20_25 = tot_20_25Y / tot_20_25\n",
    "\n",
    "per20_25i = per20_25 * 100\n",
    "\n",
    "print(per20_25i)\n",
    "#Anestesia given 78 percent of people age  between 20 to 25 "
   ]
  },
  {
   "cell_type": "code",
   "execution_count": 316,
   "id": "63878889",
   "metadata": {},
   "outputs": [
    {
     "name": "stdout",
     "output_type": "stream",
     "text": [
      "78.2515738211189\n"
     ]
    }
   ],
   "source": [
    "# prev_cesarian correlate with anesthesia\n",
    "tot_20_25 = (birth[(birth.mother_age >= 20) & (birth.mother_age <= 25)].plurality.size)\n",
    "tot_20_25Y = (birth[(birth.mother_age >= 20) & (birth.mother_age <= 25) & (birth.anesthesia == 'Y') & (birth.prev_cesarian == 0)].plurality.size)\n",
    "tot_20_25N = (birth[(birth.mother_age >= 20) & (birth.mother_age <= 25) & (birth.anesthesia == 'N') & (birth.prev_cesarian == 0)].plurality.size)\n",
    "\n",
    "tot_20_25, tot_20_25Y, tot_20_25N\n",
    "\n",
    "\n",
    "per20_25 = tot_20_25Y / tot_20_25\n",
    "\n",
    "per20_25i = per20_25 * 100\n",
    "\n",
    "print(per20_25i)\n",
    "#Anestesia given 78 percent of people age  between 20 to 25 "
   ]
  },
  {
   "cell_type": "markdown",
   "id": "fd339ea3",
   "metadata": {},
   "source": [
    "# 6.2 mother age between 25 to 30 _anasthesia given"
   ]
  },
  {
   "cell_type": "code",
   "execution_count": 317,
   "id": "abdb61b1",
   "metadata": {},
   "outputs": [
    {
     "name": "stdout",
     "output_type": "stream",
     "text": [
      "76.72287855691057\n"
     ]
    }
   ],
   "source": [
    "tot_25_30 = (birth[(birth.mother_age >= 25) & (birth.mother_age <= 30)].plurality.size)\n",
    "tot_25_30Y = (birth[(birth.mother_age >= 25) & (birth.mother_age <= 30) & (birth.anesthesia == 'Y')].plurality.size)\n",
    "tot_25_30N = (birth[(birth.mother_age >= 25) & (birth.mother_age <= 30) & (birth.anesthesia == 'N')].plurality.size)\n",
    "\n",
    "tot_25_30, tot_25_30Y, tot_25_30N\n",
    "\n",
    "per25_30 = tot_25_30Y / tot_25_30\n",
    "\n",
    "per25_30i = per25_30 * 100\n",
    "\n",
    "print(per25_30i)\n",
    "#Anestesia given 76 percent of people age between  25  to 30"
   ]
  },
  {
   "cell_type": "code",
   "execution_count": 318,
   "id": "287f362d",
   "metadata": {},
   "outputs": [
    {
     "name": "stdout",
     "output_type": "stream",
     "text": [
      "76.66412601626016\n"
     ]
    }
   ],
   "source": [
    "# prev_cesarian correlate with anesthesia\n",
    "tot_25_30 = (birth[(birth.mother_age >= 25) & (birth.mother_age <= 30)].plurality.size)\n",
    "tot_25_30Y = (birth[(birth.mother_age >= 25) & (birth.mother_age <= 30) & (birth.anesthesia == 'Y') & (birth.prev_cesarian == 0)].plurality.size)\n",
    "tot_25_30N = (birth[(birth.mother_age >= 25) & (birth.mother_age <= 30) & (birth.anesthesia == 'N') & (birth.prev_cesarian == 0)].plurality.size)\n",
    "\n",
    "tot_25_30, tot_25_30Y, tot_25_30N\n",
    "\n",
    "per25_30 = tot_25_30Y / tot_25_30\n",
    "\n",
    "per25_30i = per25_30 * 100\n",
    "\n",
    "print(per25_30i)\n",
    "#Anestesia given 76 percent of people age between  25  to 30"
   ]
  },
  {
   "cell_type": "markdown",
   "id": "6978f1f8",
   "metadata": {},
   "source": [
    "# 6.3 mother age above 30  _anasthesia given"
   ]
  },
  {
   "cell_type": "code",
   "execution_count": 153,
   "id": "eabe0b89",
   "metadata": {},
   "outputs": [
    {
     "name": "stdout",
     "output_type": "stream",
     "text": [
      "76.76992072803941\n"
     ]
    }
   ],
   "source": [
    "tot_abov30 = (birth[(birth.mother_age > 20) ].plurality.size)\n",
    "tot_abov30_Y = (birth[(birth.mother_age > 20) & (birth.anesthesia == 'Y')].plurality.size)\n",
    "tot_abov30_N = (birth[(birth.mother_age > 20)  & (birth.anesthesia == 'N')].plurality.size)\n",
    "\n",
    "tot_abov30, tot_abov30_Y, tot_abov30_N\n",
    "\n",
    "per30 = tot_abov30_Y / tot_abov30\n",
    "\n",
    "per30i = per30 * 100\n",
    "\n",
    "print(per30i)\n",
    "#Anestesia given 76 percent of people age above 30"
   ]
  },
  {
   "cell_type": "code",
   "execution_count": 256,
   "id": "5c9e145f",
   "metadata": {},
   "outputs": [
    {
     "name": "stdout",
     "output_type": "stream",
     "text": [
      "76.69845089128843\n"
     ]
    }
   ],
   "source": [
    "# prev_cesarian correlate with anesthesia\n",
    "tot_abov30 = (birth[(birth.mother_age > 20) ].plurality.size)\n",
    "tot_abov30_Y = (birth[(birth.mother_age > 20) & (birth.anesthesia == 'Y') & (birth.prev_cesarian == 0)].plurality.size)\n",
    "tot_abov30_N = (birth[(birth.mother_age > 20)  & (birth.anesthesia == 'N') & (birth.prev_cesarian == 0)].plurality.size)\n",
    "\n",
    "tot_abov30, tot_abov30_Y, tot_abov30_N\n",
    "\n",
    "per30 = tot_abov30_Y / tot_abov30\n",
    "\n",
    "per30i = per30 * 100\n",
    "\n",
    "print(per30i)\n",
    "#Anestesia given 76 percent of people age above 30"
   ]
  },
  {
   "cell_type": "code",
   "execution_count": null,
   "id": "af301012",
   "metadata": {},
   "outputs": [],
   "source": [
    "birth[(birth['gonorrhea'] == 'Y' ) & (birth['syphilis'] == 'Y' ) &  (birth['chlamydia'] == 'Y')  &  (birth['hepatitis_b'] == 'Y')  &  (birth['hepatitis_c'] == 'Y') ] "
   ]
  },
  {
   "cell_type": "markdown",
   "id": "6363b497",
   "metadata": {},
   "source": [
    "# 7. Does Underweight affects the Infant's weight?"
   ]
  },
  {
   "cell_type": "code",
   "execution_count": 251,
   "id": "e23683b7",
   "metadata": {},
   "outputs": [
    {
     "data": {
      "text/plain": [
       "82"
      ]
     },
     "execution_count": 251,
     "metadata": {},
     "output_type": "execute_result"
    }
   ],
   "source": [
    "birth[(birth['delivery_weight'] <= 100 ) ].plurality.size"
   ]
  },
  {
   "cell_type": "code",
   "execution_count": 252,
   "id": "90fbe1a5",
   "metadata": {},
   "outputs": [
    {
     "data": {
      "text/plain": [
       "23"
      ]
     },
     "execution_count": 252,
     "metadata": {},
     "output_type": "execute_result"
    }
   ],
   "source": [
    "birth[(birth['delivery_weight'] <= 100 ) &  (birth['infant_weight'] < 2400 )].plurality.size"
   ]
  },
  {
   "cell_type": "code",
   "execution_count": 255,
   "id": "6f07e4ba",
   "metadata": {},
   "outputs": [
    {
     "data": {
      "text/plain": [
       "3695"
      ]
     },
     "execution_count": 255,
     "metadata": {},
     "output_type": "execute_result"
    }
   ],
   "source": [
    "birth[(birth['pre_preg_weight'] <= 100 )].plurality.size"
   ]
  },
  {
   "cell_type": "code",
   "execution_count": 254,
   "id": "bbd841d6",
   "metadata": {},
   "outputs": [
    {
     "data": {
      "text/plain": [
       "447"
      ]
     },
     "execution_count": 254,
     "metadata": {},
     "output_type": "execute_result"
    }
   ],
   "source": [
    "birth[(birth['pre_preg_weight'] <= 100 ) &  (birth['infant_weight'] < 2400 )].plurality.size"
   ]
  },
  {
   "cell_type": "code",
   "execution_count": 257,
   "id": "cc7c35ca",
   "metadata": {},
   "outputs": [],
   "source": [
    "# Does Under weight affects the Infants Apgar"
   ]
  },
  {
   "cell_type": "code",
   "execution_count": 262,
   "id": "c6438653",
   "metadata": {},
   "outputs": [
    {
     "data": {
      "text/plain": [
       "5"
      ]
     },
     "execution_count": 262,
     "metadata": {},
     "output_type": "execute_result"
    }
   ],
   "source": [
    "birth[(birth['delivery_weight'] <= 100 ) &  (birth['apgar5'] < 7.0 )].plurality.size"
   ]
  },
  {
   "cell_type": "code",
   "execution_count": 268,
   "id": "50f92fea",
   "metadata": {},
   "outputs": [
    {
     "data": {
      "text/plain": [
       "80"
      ]
     },
     "execution_count": 268,
     "metadata": {},
     "output_type": "execute_result"
    }
   ],
   "source": [
    "birth[(birth['pre_preg_weight'] <= 100 ) &  (birth['apgar5'] < 7.0 )].plurality.size"
   ]
  },
  {
   "cell_type": "markdown",
   "id": "6e526197",
   "metadata": {},
   "source": [
    "# 8. Prev Preterm birth and Apgar5"
   ]
  },
  {
   "cell_type": "code",
   "execution_count": 322,
   "id": "75a3d355",
   "metadata": {},
   "outputs": [
    {
     "data": {
      "text/plain": [
       "6786"
      ]
     },
     "execution_count": 322,
     "metadata": {},
     "output_type": "execute_result"
    }
   ],
   "source": [
    "birth[(birth['prev_preterm_birth'] == 'Y' ) ].plurality.size"
   ]
  },
  {
   "cell_type": "code",
   "execution_count": 323,
   "id": "620582c0",
   "metadata": {},
   "outputs": [
    {
     "data": {
      "text/plain": [
       "173978"
      ]
     },
     "execution_count": 323,
     "metadata": {},
     "output_type": "execute_result"
    }
   ],
   "source": [
    "birth[(birth['prev_preterm_birth'] == 'N' ) ].plurality.size"
   ]
  },
  {
   "cell_type": "code",
   "execution_count": 324,
   "id": "ac9eb3b3",
   "metadata": {},
   "outputs": [
    {
     "data": {
      "text/plain": [
       "261"
      ]
     },
     "execution_count": 324,
     "metadata": {},
     "output_type": "execute_result"
    }
   ],
   "source": [
    "birth[(birth['prev_preterm_birth'] == 'Y' ) &  (birth['apgar5'] < 7.0 )].plurality.size"
   ]
  },
  {
   "cell_type": "code",
   "execution_count": 325,
   "id": "d644c235",
   "metadata": {},
   "outputs": [
    {
     "data": {
      "text/plain": [
       "3522"
      ]
     },
     "execution_count": 325,
     "metadata": {},
     "output_type": "execute_result"
    }
   ],
   "source": [
    "birth[(birth['prev_preterm_birth'] == 'N' ) &  (birth['apgar5'] < 7.0 )].plurality.size"
   ]
  },
  {
   "cell_type": "code",
   "execution_count": 295,
   "id": "06f0d902",
   "metadata": {},
   "outputs": [
    {
     "data": {
      "text/plain": [
       "118"
      ]
     },
     "execution_count": 295,
     "metadata": {},
     "output_type": "execute_result"
    }
   ],
   "source": [
    "birth[(birth['prev_preterm_birth'] == 'Y' ) &  (birth['apgar5'] < 5.0 )].plurality.size"
   ]
  },
  {
   "cell_type": "code",
   "execution_count": 296,
   "id": "6fa199af",
   "metadata": {},
   "outputs": [
    {
     "data": {
      "text/plain": [
       "1353"
      ]
     },
     "execution_count": 296,
     "metadata": {},
     "output_type": "execute_result"
    }
   ],
   "source": [
    "birth[(birth['prev_preterm_birth'] == 'N' ) &  (birth['apgar5'] < 5.0 )].plurality.size"
   ]
  },
  {
   "cell_type": "code",
   "execution_count": null,
   "id": "a5f8dad6",
   "metadata": {},
   "outputs": [],
   "source": []
  },
  {
   "cell_type": "markdown",
   "id": "2c70144f",
   "metadata": {},
   "source": [
    "# 8.1 Prev Preterm birth and Infant weight"
   ]
  },
  {
   "cell_type": "code",
   "execution_count": 321,
   "id": "2329ec11",
   "metadata": {},
   "outputs": [
    {
     "data": {
      "text/plain": [
       "(5341, 160288)"
      ]
     },
     "execution_count": 321,
     "metadata": {},
     "output_type": "execute_result"
    }
   ],
   "source": [
    "#Prev preterm birth (6786) and infant weight above 2500 g-\n",
    "prev_abv2500 = birth[(birth['prev_preterm_birth'] == 'Y' ) &  (birth['infant_weight'] > 2500 )].plurality.size\n",
    "\n",
    "#No Prev preterm birth (173978) and infant weight above 2500 g-\n",
    "No_prev_abv2500 = birth[(birth['prev_preterm_birth'] == 'N' ) &  (birth['infant_weight'] > 2500 )].plurality.size\n",
    "\n",
    "prev_abv2500, No_prev_abv2500 "
   ]
  },
  {
   "cell_type": "code",
   "execution_count": 312,
   "id": "2d1df048",
   "metadata": {},
   "outputs": [
    {
     "data": {
      "text/plain": [
       "(1435, 13547)"
      ]
     },
     "execution_count": 312,
     "metadata": {},
     "output_type": "execute_result"
    }
   ],
   "source": [
    "#Prev preterm birth (6786) and infant weight below 2500 g-\n",
    "prev_blw2500 = birth[(birth['prev_preterm_birth'] == 'Y' ) &  (birth['infant_weight'] < 2500 )].plurality.size\n",
    "\n",
    "#No Prev preterm birth (173978) and infant weight below 2500 g-\n",
    "No_prev_blw2500 = birth[(birth['prev_preterm_birth'] == 'N' ) &  (birth['infant_weight'] < 2500 )].plurality.size\n",
    "\n",
    "prev_blw2500, No_prev_blw2500 "
   ]
  },
  {
   "cell_type": "markdown",
   "id": "8fe12c66",
   "metadata": {},
   "source": [
    "# 9.  APGAR5 and APGAR10"
   ]
  },
  {
   "cell_type": "code",
   "execution_count": 328,
   "id": "f6fd5af2",
   "metadata": {},
   "outputs": [
    {
     "data": {
      "text/plain": [
       "3789"
      ]
     },
     "execution_count": 328,
     "metadata": {},
     "output_type": "execute_result"
    }
   ],
   "source": [
    "birth[(birth['apgar5'] < 7.0 ) ].plurality.size"
   ]
  },
  {
   "cell_type": "code",
   "execution_count": 330,
   "id": "cb8a045b",
   "metadata": {},
   "outputs": [
    {
     "data": {
      "text/plain": [
       "923"
      ]
     },
     "execution_count": 330,
     "metadata": {},
     "output_type": "execute_result"
    }
   ],
   "source": [
    "birth[(birth['apgar10'] < 7.0 )].plurality.size"
   ]
  },
  {
   "cell_type": "code",
   "execution_count": 327,
   "id": "424410c7",
   "metadata": {},
   "outputs": [
    {
     "data": {
      "text/plain": [
       "923"
      ]
     },
     "execution_count": 327,
     "metadata": {},
     "output_type": "execute_result"
    }
   ],
   "source": [
    "birth[(birth['apgar5'] < 7.0 ) &  (birth['apgar10'] < 7.0 )].plurality.size"
   ]
  },
  {
   "cell_type": "code",
   "execution_count": null,
   "id": "d4a3e699",
   "metadata": {},
   "outputs": [],
   "source": []
  },
  {
   "cell_type": "markdown",
   "id": "bfb52cf4",
   "metadata": {},
   "source": [
    "# 10 Marital Status and mother age"
   ]
  },
  {
   "cell_type": "code",
   "execution_count": 341,
   "id": "25f8d4ee",
   "metadata": {},
   "outputs": [
    {
     "data": {
      "text/plain": [
       "94786"
      ]
     },
     "execution_count": 341,
     "metadata": {},
     "output_type": "execute_result"
    }
   ],
   "source": [
    "birth[(birth['marital_status'] == '1' ) ].plurality.size"
   ]
  },
  {
   "cell_type": "code",
   "execution_count": 342,
   "id": "00d28d7d",
   "metadata": {},
   "outputs": [
    {
     "data": {
      "text/plain": [
       "65161"
      ]
     },
     "execution_count": 342,
     "metadata": {},
     "output_type": "execute_result"
    }
   ],
   "source": [
    "birth[(birth['marital_status'] == '2' ) ].plurality.size"
   ]
  },
  {
   "cell_type": "code",
   "execution_count": 344,
   "id": "6219614a",
   "metadata": {},
   "outputs": [
    {
     "data": {
      "text/plain": [
       "167903"
      ]
     },
     "execution_count": 344,
     "metadata": {},
     "output_type": "execute_result"
    }
   ],
   "source": [
    "birth[(birth['mother_age'] > 20 ) ].plurality.size"
   ]
  },
  {
   "cell_type": "code",
   "execution_count": 346,
   "id": "51e8febc",
   "metadata": {},
   "outputs": [
    {
     "data": {
      "text/plain": [
       "592"
      ]
     },
     "execution_count": 346,
     "metadata": {},
     "output_type": "execute_result"
    }
   ],
   "source": [
    "birth[(birth['marital_status'] == '1' ) &  (birth['mother_age'] < 20  )].plurality.size"
   ]
  },
  {
   "cell_type": "code",
   "execution_count": 347,
   "id": "681c8726",
   "metadata": {},
   "outputs": [
    {
     "data": {
      "text/plain": [
       "6722"
      ]
     },
     "execution_count": 347,
     "metadata": {},
     "output_type": "execute_result"
    }
   ],
   "source": [
    "birth[(birth['marital_status'] == '2' ) &  (birth['mother_age'] < 20  )].plurality.size"
   ]
  },
  {
   "cell_type": "markdown",
   "id": "c5c0e50d",
   "metadata": {},
   "source": [
    "# 11. birth incident by Day and Night"
   ]
  },
  {
   "cell_type": "code",
   "execution_count": 362,
   "id": "ecc424c4",
   "metadata": {},
   "outputs": [
    {
     "data": {
      "text/plain": [
       "(31740, 107908, 40947)"
      ]
     },
     "execution_count": 362,
     "metadata": {},
     "output_type": "execute_result"
    }
   ],
   "source": [
    "night1 = birth[(birth['birth_time'] > 0 ) &  (birth['birth_time'] < 600  )].plurality.size\n",
    "day1 = birth[(birth['birth_time'] > 600 ) &  (birth['birth_time'] < 1800  )].plurality.size\n",
    "night2 = birth[(birth['birth_time'] > 1800 ) &  (birth['birth_time'] < 2400  )].plurality.size\n",
    "night1, day, night2, "
   ]
  },
  {
   "cell_type": "code",
   "execution_count": 366,
   "id": "d3fd8895",
   "metadata": {},
   "outputs": [
    {
     "data": {
      "text/plain": [
       "(107908, 72687)"
      ]
     },
     "execution_count": 366,
     "metadata": {},
     "output_type": "execute_result"
    }
   ],
   "source": [
    "night = night1 + night2 \n",
    "day, night"
   ]
  },
  {
   "cell_type": "code",
   "execution_count": 367,
   "id": "a73325ff",
   "metadata": {},
   "outputs": [
    {
     "data": {
      "text/plain": [
       "180595"
      ]
     },
     "execution_count": 367,
     "metadata": {},
     "output_type": "execute_result"
    }
   ],
   "source": [
    "day + night"
   ]
  },
  {
   "cell_type": "markdown",
   "id": "4079f0f4",
   "metadata": {},
   "source": [
    "# 12. Under age mother without father details"
   ]
  },
  {
   "cell_type": "code",
   "execution_count": 373,
   "id": "9d7c7180",
   "metadata": {},
   "outputs": [
    {
     "data": {
      "text/plain": [
       "2764"
      ]
     },
     "execution_count": 373,
     "metadata": {},
     "output_type": "execute_result"
    }
   ],
   "source": [
    "birth[(birth['father_age'].isnull()) &  (birth['mother_age'] < 20  )].plurality.size\n"
   ]
  },
  {
   "cell_type": "code",
   "execution_count": 374,
   "id": "767df509",
   "metadata": {},
   "outputs": [
    {
     "data": {
      "text/plain": [
       "8010"
      ]
     },
     "execution_count": 374,
     "metadata": {},
     "output_type": "execute_result"
    }
   ],
   "source": [
    "birth[(birth['mother_age'] < 20  )].plurality.size"
   ]
  },
  {
   "cell_type": "markdown",
   "id": "089bc6b4",
   "metadata": {},
   "source": [
    "# 13. Antibiotics and chorioamnionitis"
   ]
  },
  {
   "cell_type": "code",
   "execution_count": 390,
   "id": "bd048736",
   "metadata": {},
   "outputs": [
    {
     "data": {
      "text/plain": [
       "45973"
      ]
     },
     "execution_count": 390,
     "metadata": {},
     "output_type": "execute_result"
    }
   ],
   "source": [
    "birth[ (birth['antibiotics'] == 'Y' )].plurality.size"
   ]
  },
  {
   "cell_type": "code",
   "execution_count": 391,
   "id": "20283ac6",
   "metadata": {},
   "outputs": [
    {
     "data": {
      "text/plain": [
       "2870"
      ]
     },
     "execution_count": 391,
     "metadata": {},
     "output_type": "execute_result"
    }
   ],
   "source": [
    "birth[(birth['chorioamnionitis'] == 'Y' )].plurality.size"
   ]
  },
  {
   "cell_type": "code",
   "execution_count": 392,
   "id": "232bc9aa",
   "metadata": {},
   "outputs": [
    {
     "data": {
      "text/plain": [
       "1793"
      ]
     },
     "execution_count": 392,
     "metadata": {},
     "output_type": "execute_result"
    }
   ],
   "source": [
    "birth[(birth['chorioamnionitis'] == 'Y' ) & (birth['antibiotics'] == 'Y' )].plurality.size"
   ]
  },
  {
   "cell_type": "markdown",
   "id": "1af20e7c",
   "metadata": {},
   "source": [
    "# 14.labor_induction and labor_augmentation with anesthesia\n"
   ]
  },
  {
   "cell_type": "code",
   "execution_count": 401,
   "id": "3d3a9e70",
   "metadata": {},
   "outputs": [
    {
     "data": {
      "text/plain": [
       "56685"
      ]
     },
     "execution_count": 401,
     "metadata": {},
     "output_type": "execute_result"
    }
   ],
   "source": [
    "birth[ (birth['labor_induction'] == 'Y' )].plurality.size"
   ]
  },
  {
   "cell_type": "code",
   "execution_count": 402,
   "id": "604259ec",
   "metadata": {},
   "outputs": [
    {
     "data": {
      "text/plain": [
       "39091"
      ]
     },
     "execution_count": 402,
     "metadata": {},
     "output_type": "execute_result"
    }
   ],
   "source": [
    "birth[ (birth['labor_augmentation'] == 'Y' )].plurality.size"
   ]
  },
  {
   "cell_type": "code",
   "execution_count": 406,
   "id": "41932742",
   "metadata": {},
   "outputs": [
    {
     "data": {
      "text/plain": [
       "139376"
      ]
     },
     "execution_count": 406,
     "metadata": {},
     "output_type": "execute_result"
    }
   ],
   "source": [
    "birth[ (birth['anesthesia'] == 'Y' )].plurality.size\n"
   ]
  },
  {
   "cell_type": "markdown",
   "id": "fc48a8db",
   "metadata": {},
   "source": [
    "# 14.1.labor_induction and labor_augmentation"
   ]
  },
  {
   "cell_type": "code",
   "execution_count": 403,
   "id": "21355da2",
   "metadata": {},
   "outputs": [
    {
     "data": {
      "text/plain": [
       "11078"
      ]
     },
     "execution_count": 403,
     "metadata": {},
     "output_type": "execute_result"
    }
   ],
   "source": [
    "# labor induction : 56685, labor_augmentation 39091, anesthesia :139376\n",
    "birth[(birth['labor_induction'] == 'Y' ) & (birth['labor_augmentation'] == 'Y' )].plurality.size"
   ]
  },
  {
   "cell_type": "markdown",
   "id": "80c54660",
   "metadata": {},
   "source": [
    "# 14.2.anesthesia and labor_augmentation"
   ]
  },
  {
   "cell_type": "code",
   "execution_count": 405,
   "id": "251228d4",
   "metadata": {},
   "outputs": [
    {
     "data": {
      "text/plain": [
       "33440"
      ]
     },
     "execution_count": 405,
     "metadata": {},
     "output_type": "execute_result"
    }
   ],
   "source": [
    "# labor induction : 56685, labor_augmentation 39091, anesthesia :139376\n",
    "birth[(birth['labor_augmentation'] == 'Y' ) & (birth['anesthesia'] == 'Y' )].plurality.size"
   ]
  },
  {
   "cell_type": "markdown",
   "id": "e6f4ef18",
   "metadata": {},
   "source": [
    "# 14.3.anesthesia and labor_induction"
   ]
  },
  {
   "cell_type": "code",
   "execution_count": 400,
   "id": "7aa7fb10",
   "metadata": {},
   "outputs": [
    {
     "data": {
      "text/plain": [
       "49173"
      ]
     },
     "execution_count": 400,
     "metadata": {},
     "output_type": "execute_result"
    }
   ],
   "source": [
    "# labor induction : 56685, labor_augmentation 39091, anesthesia :139376\n",
    "birth[(birth['labor_induction'] == 'Y' ) & (birth['anesthesia'] == 'Y' )].plurality.size"
   ]
  },
  {
   "attachments": {},
   "cell_type": "markdown",
   "id": "40a05d9f",
   "metadata": {},
   "source": [
    "# 15.gest_hypertension vs anesthesia"
   ]
  },
  {
   "cell_type": "code",
   "execution_count": 408,
   "id": "0d794f52",
   "metadata": {},
   "outputs": [
    {
     "data": {
      "text/plain": [
       "15305"
      ]
     },
     "execution_count": 408,
     "metadata": {},
     "output_type": "execute_result"
    }
   ],
   "source": [
    " anesthesia :139376\n",
    "birth[ (birth['gest_hypertension'] == 'Y' )].plurality.size\n"
   ]
  },
  {
   "cell_type": "code",
   "execution_count": 409,
   "id": "2f45d7a7",
   "metadata": {},
   "outputs": [
    {
     "data": {
      "text/plain": [
       "13010"
      ]
     },
     "execution_count": 409,
     "metadata": {},
     "output_type": "execute_result"
    }
   ],
   "source": [
    "# anesthesia :139376\n",
    "birth[(birth['gest_hypertension'] == 'Y' ) & (birth['anesthesia'] == 'Y' )].plurality.size"
   ]
  },
  {
   "cell_type": "markdown",
   "id": "50540831",
   "metadata": {},
   "source": [
    "# 16.cigarettes and chorioamnionitis"
   ]
  },
  {
   "cell_type": "code",
   "execution_count": 412,
   "id": "dc2c0da8",
   "metadata": {},
   "outputs": [
    {
     "data": {
      "text/plain": [
       "9116"
      ]
     },
     "execution_count": 412,
     "metadata": {},
     "output_type": "execute_result"
    }
   ],
   "source": [
    "birth[(birth['cigarettes'] > 5  ) ].plurality.size"
   ]
  },
  {
   "cell_type": "code",
   "execution_count": 411,
   "id": "25fbdfe0",
   "metadata": {},
   "outputs": [
    {
     "data": {
      "text/plain": [
       "72"
      ]
     },
     "execution_count": 411,
     "metadata": {},
     "output_type": "execute_result"
    }
   ],
   "source": [
    "birth[(birth['cigarettes'] > 5  ) & (birth['chorioamnionitis'] == 'Y' )].plurality.size"
   ]
  },
  {
   "cell_type": "markdown",
   "id": "7b200c3b",
   "metadata": {},
   "source": [
    "# 17. gonorrhea, syphilis, chlamydia, hepatitis_b, hepatitis_c with antibiotics\n"
   ]
  },
  {
   "cell_type": "code",
   "execution_count": 423,
   "id": "df390183",
   "metadata": {},
   "outputs": [
    {
     "data": {
      "text/plain": [
       "228"
      ]
     },
     "execution_count": 423,
     "metadata": {},
     "output_type": "execute_result"
    }
   ],
   "source": [
    "#gonorrhea:597 , syphilis:314, chlamydia:3348, hepatitis_b:342, hepatitis_c:900, antibiotics :45973\n",
    "birth[(birth['gonorrhea'] == 'Y'  ) & (birth['antibiotics'] == 'Y' )].plurality.size"
   ]
  },
  {
   "cell_type": "code",
   "execution_count": 427,
   "id": "f31e7a89",
   "metadata": {},
   "outputs": [
    {
     "data": {
      "text/plain": [
       "118"
      ]
     },
     "execution_count": 427,
     "metadata": {},
     "output_type": "execute_result"
    }
   ],
   "source": [
    "#gonorrhea:597 , syphilis:314, chlamydia:3348, hepatitis_b:342, hepatitis_c:900, antibiotics :45973\n",
    "birth[(birth['syphilis'] == 'Y'  ) & (birth['antibiotics'] == 'Y' )].plurality.size"
   ]
  },
  {
   "cell_type": "code",
   "execution_count": 428,
   "id": "1500ad25",
   "metadata": {},
   "outputs": [
    {
     "data": {
      "text/plain": [
       "1107"
      ]
     },
     "execution_count": 428,
     "metadata": {},
     "output_type": "execute_result"
    }
   ],
   "source": [
    "#gonorrhea:597 , syphilis:314, chlamydia:3348, hepatitis_b:342, hepatitis_c:900, antibiotics :45973\n",
    "birth[(birth['chlamydia'] == 'Y'  ) & (birth['antibiotics'] == 'Y' )].plurality.size"
   ]
  },
  {
   "cell_type": "code",
   "execution_count": 429,
   "id": "5834c0fc",
   "metadata": {},
   "outputs": [
    {
     "data": {
      "text/plain": [
       "105"
      ]
     },
     "execution_count": 429,
     "metadata": {},
     "output_type": "execute_result"
    }
   ],
   "source": [
    "#gonorrhea:597 , syphilis:314, chlamydia:3348, hepatitis_b:342, hepatitis_c:900, antibiotics :45973\n",
    "birth[(birth['hepatitis_b'] == 'Y'  ) & (birth['antibiotics'] == 'Y' )].plurality.size"
   ]
  },
  {
   "cell_type": "code",
   "execution_count": 430,
   "id": "bb2a7014",
   "metadata": {},
   "outputs": [
    {
     "data": {
      "text/plain": [
       "288"
      ]
     },
     "execution_count": 430,
     "metadata": {},
     "output_type": "execute_result"
    }
   ],
   "source": [
    "#gonorrhea:597 , syphilis:314, chlamydia:3348, hepatitis_b:342, hepatitis_c:900, antibiotics :45973\n",
    "birth[(birth['hepatitis_c'] == 'Y'  ) & (birth['antibiotics'] == 'Y' )].plurality.size"
   ]
  },
  {
   "cell_type": "code",
   "execution_count": null,
   "id": "349139b2",
   "metadata": {},
   "outputs": [],
   "source": []
  }
 ],
 "metadata": {
  "kernelspec": {
   "display_name": "Python 3",
   "language": "python",
   "name": "python3"
  },
  "language_info": {
   "codemirror_mode": {
    "name": "ipython",
    "version": 3
   },
   "file_extension": ".py",
   "mimetype": "text/x-python",
   "name": "python",
   "nbconvert_exporter": "python",
   "pygments_lexer": "ipython3",
   "version": "3.8.8"
  }
 },
 "nbformat": 4,
 "nbformat_minor": 5
}
